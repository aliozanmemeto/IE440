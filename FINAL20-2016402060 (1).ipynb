{
  "nbformat": 4,
  "nbformat_minor": 0,
  "metadata": {
    "colab": {
      "name": "Q1 1.ipynb",
      "provenance": []
    },
    "kernelspec": {
      "name": "python3",
      "display_name": "Python 3"
    }
  },
  "cells": [
    {
      "cell_type": "code",
      "metadata": {
        "id": "dH3IUBNnlctt"
      },
      "source": [
        "# IMPORT REQUIRED LIBRARIES\r\n",
        "import numpy as np\r\n",
        "from numpy import mean\r\n",
        "import pandas as pd\r\n",
        "import matplotlib.pyplot as plt\r\n",
        "import math\r\n",
        "from tqdm import tqdm\r\n",
        "import random\r\n",
        "from google.colab import files"
      ],
      "execution_count": 6,
      "outputs": []
    },
    {
      "cell_type": "code",
      "metadata": {
        "id": "wwo6zwCAl1OG"
      },
      "source": [
        "from google.colab import auth\r\n",
        "auth.authenticate_user()\r\n",
        "\r\n",
        "import gspread\r\n",
        "from oauth2client.client import GoogleCredentials\r\n",
        "\r\n",
        "gc = gspread.authorize(GoogleCredentials.get_application_default())\r\n",
        "\r\n",
        "worksheet = gc.open('Untitled spreadsheet').get_worksheet(0)\r\n",
        "\r\n",
        "# get_all_values gives a list of rows.\r\n",
        "rows = worksheet.get_all_values()"
      ],
      "execution_count": 10,
      "outputs": []
    },
    {
      "cell_type": "code",
      "metadata": {
        "id": "1FM6hBeNmb6H"
      },
      "source": [
        "train = pd.DataFrame.from_records(rows)"
      ],
      "execution_count": 11,
      "outputs": []
    },
    {
      "cell_type": "code",
      "metadata": {
        "id": "LgLnsCnsmedW"
      },
      "source": [
        "worksheet = gc.open('Untitled spreadsheet').get_worksheet(1)\r\n",
        "\r\n",
        "# get_all_values gives a list of rows.\r\n",
        "rows = worksheet.get_all_values()\r\n",
        "test = pd.DataFrame.from_records(rows)"
      ],
      "execution_count": 12,
      "outputs": []
    },
    {
      "cell_type": "code",
      "metadata": {
        "id": "y-Su8ycnleke"
      },
      "source": [
        "# INPUT FUNCTION\r\n",
        "def f1(coord):\r\n",
        "  x1 = coord[0][0]\r\n",
        "  x2 = coord[1][0]\r\n",
        "  a = 0\r\n",
        "  for p in range(len(train)): #function is in open form\r\n",
        "    a = a + float(train.loc[p,1])**2-2*x1*float(train.loc[p,1])-2*float(train.loc[p,1])*x2*float(train.loc[p,0])+x1**2+2*x1*x2*float(train.loc[p,0])+(x2**2)*(float(train.loc[p,0])**2)\r\n",
        "  return a\r\n",
        "\r\n",
        "def f1_derivative(coord):\r\n",
        "  x1 = coord[0][0]\r\n",
        "  x2 = coord[1][0]\r\n",
        "  g1 = 0\r\n",
        "  g2 = 0\r\n",
        "  for p in range(len(train)):\r\n",
        "    g1 = g1-2*float(train.loc[p,1])+2*x1+2*x2*float(train.loc[p,0])\r\n",
        "    g2 = g2-2*float(train.loc[p,0])*float(train.loc[p,1])+2*x1*float(train.loc[p,0])+2*x2*float(train.loc[p,0])**2\r\n",
        "  return np.array([[g1 , g2]])\r\n",
        "\r\n",
        "def f1_hessian(coord):\r\n",
        "  x1 = coord[0][0]\r\n",
        "  x2 = coord[1][0]\r\n",
        "  h1 = 0\r\n",
        "  h2 = 0\r\n",
        "  h3 = 0\r\n",
        "  h4 = 0\r\n",
        "  for p in range(len(train)):\r\n",
        "    h1 = h1 + 2\r\n",
        "    h2 = h2 + 2*float(train.loc[p,0])\r\n",
        "    h3 = h3 + 2*float(train.loc[p,0])\r\n",
        "    h4 = h4 + 2*float(train.loc[p,0])**2\r\n",
        "  return np.array([[h1 , h2],\r\n",
        "                   [h3 , h4]])\r\n",
        "   \r\n",
        "\r\n",
        "def f2(coord):\r\n",
        "  x1 = coord[0][0]\r\n",
        "  x2 = coord[1][0]\r\n",
        "  x3 = coord[2][0]\r\n",
        "  x4 = coord[3][0]\r\n",
        "  a = 0\r\n",
        "  for p in range(len(train)):\r\n",
        "    a = a + (float(train.loc[p,1])-x1-x2*float(train.loc[p,0])-x3*float(train.loc[p,0])**2-x4*float(train.loc[p,0])**3)**2\r\n",
        "  return a\r\n",
        "\r\n",
        "def f2_derivative(coord):\r\n",
        "  x1 = coord[0][0]\r\n",
        "  x2 = coord[1][0]\r\n",
        "  x3 = coord[2][0]\r\n",
        "  x4 = coord[3][0]\r\n",
        "  g1 = 0\r\n",
        "  g2 = 0\r\n",
        "  g3 = 0\r\n",
        "  g4 = 0\r\n",
        "  for p in range(len(train)):\r\n",
        "    g1 = g1-2*(float(train.loc[p,1])-x1-x2*float(train.loc[p,0])-x3*float(train.loc[p,0])**2-x4*float(train.loc[p,0])**3)\r\n",
        "    g2 = g2-2*float(train.loc[p,0])*(float(train.loc[p,1])-x1-x2*float(train.loc[p,0])-x3*float(train.loc[p,0])**2-x4*float(train.loc[p,0])**3)\r\n",
        "    g3 = g3-2*(float(train.loc[p,0])**2)*(float(train.loc[p,1])-x1-x2*float(train.loc[p,0])-x3*float(train.loc[p,0])**2-x4*float(train.loc[p,0])**3)\r\n",
        "    g4 = g4-2*(float(train.loc[p,0])**3)*(float(train.loc[p,1])-x1-x2*float(train.loc[p,0])-x3*float(train.loc[p,0])**2-x4*float(train.loc[p,0])**3)\r\n",
        "  return np.array([[g1 , g2, g3, g4]])\r\n",
        "\r\n",
        "def f2_hessian(coord):\r\n",
        "  x1 = coord[0][0]\r\n",
        "  x2 = coord[1][0]\r\n",
        "  x3 = coord[2][0]\r\n",
        "  x4 = coord[3][0]\r\n",
        "  h1 = 0\r\n",
        "  h2 = 0\r\n",
        "  h3 = 0\r\n",
        "  h4 = 0\r\n",
        "  h5 = 0\r\n",
        "  h6 = 0\r\n",
        "  h7 = 0\r\n",
        "  h8 = 0\r\n",
        "  h9 = 0\r\n",
        "  h10 = 0\r\n",
        "  h11 = 0\r\n",
        "  h12 = 0\r\n",
        "  h13 = 0\r\n",
        "  h14 = 0\r\n",
        "  h15 = 0\r\n",
        "  h16 = 0    \r\n",
        "\r\n",
        "  for p in range(len(train)): \r\n",
        "     h1 = h1 + 2\r\n",
        "     h2 = h2 + 2*float(train.loc[p,0])\r\n",
        "     h3 = h3 + 2*float(train.loc[p,0])**2\r\n",
        "     h4 = h4 + 2*float(train.loc[p,0])**3\r\n",
        "     h5 = h5 + 2*float(train.loc[p,0])\r\n",
        "     h6 = h6 + 2*float(train.loc[p,0])**2\r\n",
        "     h7 = h7 + 2*float(train.loc[p,0])**3\r\n",
        "     h8 = h8 + 2*float(train.loc[p,0])**4\r\n",
        "     h9 = h9 + 2*float(train.loc[p,0])**2\r\n",
        "     h10 = h10 + 2*float(train.loc[p,0])**3\r\n",
        "     h11 = h11 + 2*float(train.loc[p,0])**4\r\n",
        "     h12 = h12 + 2*float(train.loc[p,0])**5 \r\n",
        "     h13 = h13 + 2*float(train.loc[p,0])**3\r\n",
        "     h14 = h14 + 2*float(train.loc[p,0])**4\r\n",
        "     h15 = h15 + 2*float(train.loc[p,0])**5\r\n",
        "     h16 = h16 + 2*float(train.loc[p,0])**6        \r\n",
        "  return np.array([[h1, h2, h3 , h4],\r\n",
        "                   [h5, h6, h7 , h8],\r\n",
        "                   [h9, h10, h11 , h12],\r\n",
        "                   [h13, h14, h15 , h16],])\r\n",
        "\r\n",
        "\r\n",
        "\r\n",
        "# BISECTION METHOD\r\n",
        "def bisection(a, b, eps, f):\r\n",
        "    x = 0 \r\n",
        "    x_values = [0]\r\n",
        "    if f == 1:\r\n",
        "      while abs(b-a) >= eps:\r\n",
        "        old_x = x \r\n",
        "        x = (a+b)/2\r\n",
        "        x_values.append(x)\r\n",
        "        if f(x) >= f(x+eps):\r\n",
        "            a = x\r\n",
        "        else:\r\n",
        "            b = x\r\n",
        "        new_x = (a+b)/2\r\n",
        "    \r\n",
        "    else:\r\n",
        "      while abs(b-a) >= eps:\r\n",
        "        old_x = x \r\n",
        "        x = (a+b)/2\r\n",
        "        x_values.append(x)\r\n",
        "        if f(x) >= f(x+eps):\r\n",
        "            a = x\r\n",
        "        else:\r\n",
        "            b = x\r\n",
        "        new_x = (a+b)/2\r\n",
        "    \r\n",
        "    return {\r\n",
        "        'x' : x,\r\n",
        "        'f(x)' : f(x)\r\n",
        "    }"
      ],
      "execution_count": null,
      "outputs": []
    },
    {
      "cell_type": "code",
      "metadata": {
        "id": "-J4DXt3m1dI0"
      },
      "source": [
        "def bfgs(x0, f, gradient_f, hessian_f, epsilon):\r\n",
        "  k = 0\r\n",
        "  H = [np.identity(len(x0))]\r\n",
        "  x = [x0]\r\n",
        "  data = []\r\n",
        "   \r\n",
        "  while True:\r\n",
        "    d = -1 * H[-1].dot(gradient_f(x[-1]).T)\r\n",
        "    if np.linalg.norm(d) < eps or k > 1000:\r\n",
        "      break\r\n",
        "    func = lambda alpha : f(x[-1] + alpha * d)\r\n",
        "    alpha = bisection(a=-100, b=100, eps=0.005, f=func)['x']\r\n",
        "    new_x = x[-1] + alpha * d\r\n",
        "    x.append(new_x)\r\n",
        "    p = x[-1] - x[-2]\r\n",
        "    q = gradient_f(x[-1]).T - gradient_f(x[-2]).T\r\n",
        "    A = (p.T.dot(q) + q.T.dot(H[-1]).dot(q)) * (p.dot(p.T)) / ((p.T.dot(q))**2)\r\n",
        "    B = -1 * (H[-1].dot(q).dot(p.T) + p.dot(q.T).dot(H[-1])) / (p.T.dot(q))\r\n",
        "    new_H = H[-1] + A + B\r\n",
        "    H.append(new_H)\r\n",
        "    k += 1\r\n",
        "\r\n",
        "    data.append({\r\n",
        "        \"k\" : k,\r\n",
        "        \"x\" : x[-2],\r\n",
        "        \"f(x)\" : f(x[-2]),\r\n",
        "        \"d\" : d,\r\n",
        "        \"alpha\" : alpha,\r\n",
        "        \"x_new\" : x[-1]\r\n",
        "      })\r\n",
        "  \r\n",
        "  return pd.DataFrame(data)"
      ],
      "execution_count": null,
      "outputs": []
    },
    {
      "cell_type": "code",
      "metadata": {
        "colab": {
          "base_uri": "https://localhost:8080/",
          "height": 1000
        },
        "id": "WnqMDiwQsbYn",
        "outputId": "6d379c1b-fe89-40f6-fedd-eafd80f9f812"
      },
      "source": [
        "pd.options.display.max_colwidth = 100\r\n",
        "x0 = np.array([[np.random.uniform(-0.001, 0.001),np.random.uniform(-0.001, 0.001),np.random.uniform(-0.001, 0.001),np.random.uniform(-0.001, 0.001)]]).T\r\n",
        "eps = 1E-5\r\n",
        "bfgs(x0=x0, f=f2, gradient_f=f2_derivative, hessian_f=f2_hessian, epsilon=eps)\r\n"
      ],
      "execution_count": null,
      "outputs": [
        {
          "output_type": "execute_result",
          "data": {
            "text/html": [
              "<div>\n",
              "<style scoped>\n",
              "    .dataframe tbody tr th:only-of-type {\n",
              "        vertical-align: middle;\n",
              "    }\n",
              "\n",
              "    .dataframe tbody tr th {\n",
              "        vertical-align: top;\n",
              "    }\n",
              "\n",
              "    .dataframe thead th {\n",
              "        text-align: right;\n",
              "    }\n",
              "</style>\n",
              "<table border=\"1\" class=\"dataframe\">\n",
              "  <thead>\n",
              "    <tr style=\"text-align: right;\">\n",
              "      <th></th>\n",
              "      <th>k</th>\n",
              "      <th>x</th>\n",
              "      <th>f(x)</th>\n",
              "      <th>d</th>\n",
              "      <th>alpha</th>\n",
              "      <th>x_new</th>\n",
              "    </tr>\n",
              "  </thead>\n",
              "  <tbody>\n",
              "    <tr>\n",
              "      <th>0</th>\n",
              "      <td>1</td>\n",
              "      <td>[[0.0008541138460074905], [-0.0006316379365770538], [0.0008159088718176456], [-0.000429831015774...</td>\n",
              "      <td>1.819361e+12</td>\n",
              "      <td>[[13365521.289675916], [10856955978.105703], [9391546398820.305], [8462111811286692.0]]</td>\n",
              "      <td>-0.003052</td>\n",
              "      <td>[[-40788.333159789705], [-33132800.226784296], [-28660725094.05529], [-25824315830342.688]]</td>\n",
              "    </tr>\n",
              "    <tr>\n",
              "      <th>1</th>\n",
              "      <td>2</td>\n",
              "      <td>[[-40788.333159789705], [-33132800.226784296], [-28660725094.05529], [-25824315830342.688]]</td>\n",
              "      <td>6.562051e+45</td>\n",
              "      <td>[[-0.0], [-150510108672.0], [-0.0], [4.059960429458227e+16]]</td>\n",
              "      <td>-0.003052</td>\n",
              "      <td>[[-40788.333159789705], [426187599.7732157], [-28660725094.05529], [-149724475420742.7]]</td>\n",
              "    </tr>\n",
              "    <tr>\n",
              "      <th>2</th>\n",
              "      <td>3</td>\n",
              "      <td>[[-40788.333159789705], [426187599.7732157], [-28660725094.05529], [-149724475420742.7]]</td>\n",
              "      <td>2.205803e+47</td>\n",
              "      <td>[[2.355423641379799e+17], [8.621945345450967e+19], [2.8636406194813127e+22], [-3.177217958902916...</td>\n",
              "      <td>-0.003052</td>\n",
              "      <td>[[-718818249973588.4], [-2.631208902430924e+17], [-8.739137635560509e+19], [9.681127280555206e+16]]</td>\n",
              "    </tr>\n",
              "    <tr>\n",
              "      <th>3</th>\n",
              "      <td>4</td>\n",
              "      <td>[[-718818249973588.4], [-2.631208902430924e+17], [-8.739137635560509e+19], [9.681127280555206e+16]]</td>\n",
              "      <td>3.815630e+51</td>\n",
              "      <td>[[946610792038400.0], [2.916080758722396e+17], [8.734516646456905e+19], [-1.5609201925554176e+16]]</td>\n",
              "      <td>0.051880</td>\n",
              "      <td>[[-669708193013588.4], [-2.47992297439662e+17], [-8.285991935518494e+19], [9.600146923885766e+16]]</td>\n",
              "    </tr>\n",
              "    <tr>\n",
              "      <th>4</th>\n",
              "      <td>5</td>\n",
              "      <td>[[-669708193013588.4], [-2.47992297439662e+17], [-8.285991935518494e+19], [9.600146923885766e+16]]</td>\n",
              "      <td>3.592799e+51</td>\n",
              "      <td>[[-1.6022464283291943e+19], [-1.9842274754125638e+21], [2.563592367683943e+21], [-2.980829374011...</td>\n",
              "      <td>0.027466</td>\n",
              "      <td>[[-4.4073983316135917e+17], [-5.474642759624665e+19], [-1.2448752029881336e+19], [1.413054527003...</td>\n",
              "    </tr>\n",
              "    <tr>\n",
              "      <th>5</th>\n",
              "      <td>6</td>\n",
              "      <td>[[-4.4073983316135917e+17], [-5.474642759624665e+19], [-1.2448752029881336e+19], [1.413054527003...</td>\n",
              "      <td>8.009191e+49</td>\n",
              "      <td>[[6.296430950686268e+23], [7.81752069456996e+25], [-2.3529464452828908e+23], [1.6085268131235444...</td>\n",
              "      <td>-0.003052</td>\n",
              "      <td>[[-1.9219589742955235e+21], [-2.3862654496793925e+23], [7.056135176487352e+20], [-4.767528815865...</td>\n",
              "    </tr>\n",
              "    <tr>\n",
              "      <th>6</th>\n",
              "      <td>7</td>\n",
              "      <td>[[-1.9219589742955235e+21], [-2.3862654496793925e+23], [7.056135176487352e+20], [-4.767528815865...</td>\n",
              "      <td>3.476183e+52</td>\n",
              "      <td>[[1.9219566206295747e+21], [2.3862625349086263e+23], [-7.052820569641504e+20], [4.76378994683162...</td>\n",
              "      <td>0.997925</td>\n",
              "      <td>[[-3.9907890359076127e+18], [-4.954875597603031e+20], [1.7950587031871816e+18], [-13624663600892...</td>\n",
              "    </tr>\n",
              "    <tr>\n",
              "      <th>7</th>\n",
              "      <td>8</td>\n",
              "      <td>[[-3.9907890359076127e+18], [-4.954875597603031e+20], [1.7950587031871816e+18], [-13624663600892...</td>\n",
              "      <td>1.957896e+47</td>\n",
              "      <td>[[3.9939665219226173e+18], [4.958817247874966e+20], [-1.8048671418803692e+18], [1373013235995110...</td>\n",
              "      <td>0.991821</td>\n",
              "      <td>[[-2.948801166185267e+16], [-3.6615082590324e+18], [4953047940843776.0], [-682602464735.5]]</td>\n",
              "    </tr>\n",
              "    <tr>\n",
              "      <th>8</th>\n",
              "      <td>9</td>\n",
              "      <td>[[-2.948801166185267e+16], [-3.6615082590324e+18], [4953047940843776.0], [-682602464735.5]]</td>\n",
              "      <td>2.672024e+43</td>\n",
              "      <td>[[2.996848282094797e+16], [3.722327536808624e+18], [-5019151439286784.0], [675683330355.0]]</td>\n",
              "      <td>0.979614</td>\n",
              "      <td>[[-130458605443072.0], [-1.5063131726588416e+16], [36215628798312.0], [-20693440553.508423]]</td>\n",
              "    </tr>\n",
              "    <tr>\n",
              "      <th>9</th>\n",
              "      <td>10</td>\n",
              "      <td>[[-130458605443072.0], [-1.5063131726588416e+16], [36215628798312.0], [-20693440553.508423]]</td>\n",
              "      <td>1.802184e+38</td>\n",
              "      <td>[[163310803943424.0], [1.5063390142920192e+16], [-36217057650546.0], [20694650369.124023]]</td>\n",
              "      <td>0.997925</td>\n",
              "      <td>[[32513296685528.0], [-31001060283170.0], [73728616034.95312], [-41735625.824230194]]</td>\n",
              "    </tr>\n",
              "    <tr>\n",
              "      <th>10</th>\n",
              "      <td>11</td>\n",
              "      <td>[[32513296685528.0], [-31001060283170.0], [73728616034.95312], [-41735625.824230194]]</td>\n",
              "      <td>7.637198e+32</td>\n",
              "      <td>[[-150267264898688.0], [31949459553557.0], [-75615494661.49414], [42798956.34859371]]</td>\n",
              "      <td>0.997925</td>\n",
              "      <td>[[-117442134289420.06], [882097901684.5508], [-1729961706.4671173], [974514.3307690248]]</td>\n",
              "    </tr>\n",
              "    <tr>\n",
              "      <th>11</th>\n",
              "      <td>12</td>\n",
              "      <td>[[-117442134289420.06], [882097901684.5508], [-1729961706.4671173], [974514.3307690248]]</td>\n",
              "      <td>3.490945e+28</td>\n",
              "      <td>[[539520083947418.0], [-4275739071599.41], [8479627213.261517], [-4778269.839224901]]</td>\n",
              "      <td>0.216675</td>\n",
              "      <td>[[-541725475129.65625], [-44347026548.96399], [107359863.78913164], [-60816.35338920262]]</td>\n",
              "    </tr>\n",
              "    <tr>\n",
              "      <th>12</th>\n",
              "      <td>13</td>\n",
              "      <td>[[-541725475129.65625], [-44347026548.96399], [107359863.78913164], [-60816.35338920262]]</td>\n",
              "      <td>1.917355e+27</td>\n",
              "      <td>[[505043076977.59375], [45448809306.5686], [-109868594.00737381], [62235.3445297915]]</td>\n",
              "      <td>0.979614</td>\n",
              "      <td>[[-46978076112.909424], [175275048.3520584], [-268977.38630473614], [150.2774520543171]]</td>\n",
              "    </tr>\n",
              "    <tr>\n",
              "      <th>13</th>\n",
              "      <td>14</td>\n",
              "      <td>[[-46978076112.909424], [175275048.3520584], [-268977.38630473614], [150.2774520543171]]</td>\n",
              "      <td>3.838027e+22</td>\n",
              "      <td>[[46984624803.925415], [-175327980.80390835], [269082.7771707587], [-150.33684713350158]]</td>\n",
              "      <td>0.997925</td>\n",
              "      <td>[[-90953582.13668823], [310907.3520644307], [-453.00845183670754], [0.25258324128299137]]</td>\n",
              "    </tr>\n",
              "    <tr>\n",
              "      <th>14</th>\n",
              "      <td>15</td>\n",
              "      <td>[[-90953582.13668823], [310907.3520644307], [-453.00845183670754], [0.25258324128299137]]</td>\n",
              "      <td>1.625876e+17</td>\n",
              "      <td>[[90952467.89274216], [-310896.2141003907], [452.9879975948206], [-0.25257200174149474]]</td>\n",
              "      <td>0.997925</td>\n",
              "      <td>[[-189858.37897740304], [656.3083302151645], [-0.9604928111144204], [0.0005353757755793276]]</td>\n",
              "    </tr>\n",
              "    <tr>\n",
              "      <th>15</th>\n",
              "      <td>16</td>\n",
              "      <td>[[-189858.37897740304], [656.3083302151645], [-0.9604928111144204], [0.0005353757755793276]]</td>\n",
              "      <td>7.001314e+11</td>\n",
              "      <td>[[189478.61481463118], [-651.56825039877], [0.9529571795617642], [-0.000531419689752663]]</td>\n",
              "      <td>0.997925</td>\n",
              "      <td>[[-772.969296054187], [6.092211195395748], [-0.009513203824696004], [5.0588854758095965e-06]]</td>\n",
              "    </tr>\n",
              "    <tr>\n",
              "      <th>16</th>\n",
              "      <td>17</td>\n",
              "      <td>[[-772.969296054187], [6.092211195395748], [-0.009513203824696004], [5.0588854758095965e-06]]</td>\n",
              "      <td>6.160375e+06</td>\n",
              "      <td>[[393.11014689710737], [-1.3513081893095773], [0.001975911616869802], [-1.1018634034933424e-06]]</td>\n",
              "      <td>0.997925</td>\n",
              "      <td>[[-380.6749294912167], [4.743707234506369], [-0.007541392610351444], [3.959308654086199e-06]]</td>\n",
              "    </tr>\n",
              "    <tr>\n",
              "      <th>17</th>\n",
              "      <td>18</td>\n",
              "      <td>[[-380.6749294912167], [4.743707234506369], [-0.007541392610351444], [3.959308654086199e-06]]</td>\n",
              "      <td>3.145331e+06</td>\n",
              "      <td>[[0.8157925088804951], [-0.00280433396446797], [4.100615456238644e-06], [-2.2867018165879625e-09]]</td>\n",
              "      <td>0.997925</td>\n",
              "      <td>[[-379.8608299111266], [4.740908720082598], [-0.007537300504473179], [3.957026697622502e-06]]</td>\n",
              "    </tr>\n",
              "    <tr>\n",
              "      <th>18</th>\n",
              "      <td>19</td>\n",
              "      <td>[[-379.8608299111266], [4.740908720082598], [-0.007537300504473179], [3.957026697622502e-06]]</td>\n",
              "      <td>3.145318e+06</td>\n",
              "      <td>[[0.0016929272299015322], [-5.819527169893032e-06], [8.509550683100014e-09], [-4.745337505480869...</td>\n",
              "      <td>0.997925</td>\n",
              "      <td>[[-379.8591404970513], [4.740902912632084], [-0.007537292012581475], [3.957021962132498e-06]]</td>\n",
              "    </tr>\n",
              "  </tbody>\n",
              "</table>\n",
              "</div>"
            ],
            "text/plain": [
              "     k  ...                                                                                                x_new\n",
              "0    1  ...          [[-40788.333159789705], [-33132800.226784296], [-28660725094.05529], [-25824315830342.688]]\n",
              "1    2  ...             [[-40788.333159789705], [426187599.7732157], [-28660725094.05529], [-149724475420742.7]]\n",
              "2    3  ...  [[-718818249973588.4], [-2.631208902430924e+17], [-8.739137635560509e+19], [9.681127280555206e+16]]\n",
              "3    4  ...   [[-669708193013588.4], [-2.47992297439662e+17], [-8.285991935518494e+19], [9.600146923885766e+16]]\n",
              "4    5  ...  [[-4.4073983316135917e+17], [-5.474642759624665e+19], [-1.2448752029881336e+19], [1.413054527003...\n",
              "5    6  ...  [[-1.9219589742955235e+21], [-2.3862654496793925e+23], [7.056135176487352e+20], [-4.767528815865...\n",
              "6    7  ...  [[-3.9907890359076127e+18], [-4.954875597603031e+20], [1.7950587031871816e+18], [-13624663600892...\n",
              "7    8  ...          [[-2.948801166185267e+16], [-3.6615082590324e+18], [4953047940843776.0], [-682602464735.5]]\n",
              "8    9  ...         [[-130458605443072.0], [-1.5063131726588416e+16], [36215628798312.0], [-20693440553.508423]]\n",
              "9   10  ...                [[32513296685528.0], [-31001060283170.0], [73728616034.95312], [-41735625.824230194]]\n",
              "10  11  ...             [[-117442134289420.06], [882097901684.5508], [-1729961706.4671173], [974514.3307690248]]\n",
              "11  12  ...            [[-541725475129.65625], [-44347026548.96399], [107359863.78913164], [-60816.35338920262]]\n",
              "12  13  ...             [[-46978076112.909424], [175275048.3520584], [-268977.38630473614], [150.2774520543171]]\n",
              "13  14  ...            [[-90953582.13668823], [310907.3520644307], [-453.00845183670754], [0.25258324128299137]]\n",
              "14  15  ...         [[-189858.37897740304], [656.3083302151645], [-0.9604928111144204], [0.0005353757755793276]]\n",
              "15  16  ...        [[-772.969296054187], [6.092211195395748], [-0.009513203824696004], [5.0588854758095965e-06]]\n",
              "16  17  ...        [[-380.6749294912167], [4.743707234506369], [-0.007541392610351444], [3.959308654086199e-06]]\n",
              "17  18  ...        [[-379.8608299111266], [4.740908720082598], [-0.007537300504473179], [3.957026697622502e-06]]\n",
              "18  19  ...        [[-379.8591404970513], [4.740902912632084], [-0.007537292012581475], [3.957021962132498e-06]]\n",
              "\n",
              "[19 rows x 6 columns]"
            ]
          },
          "metadata": {
            "tags": []
          },
          "execution_count": 118
        }
      ]
    },
    {
      "cell_type": "code",
      "metadata": {
        "colab": {
          "base_uri": "https://localhost:8080/",
          "height": 601
        },
        "id": "wgWZMTdplnST",
        "outputId": "9c5e028f-d92a-47d8-ca1d-28fd4f6f9065"
      },
      "source": [
        "x0 = np.array([[np.random.uniform(-0.001, 0.001),np.random.uniform(-0.001, 0.001)]]).T\r\n",
        "eps = 1E-5\r\n",
        "bfgs(x0=x0, f=f1, gradient_f=f1_derivative, hessian_f=f1_hessian, epsilon=eps)"
      ],
      "execution_count": null,
      "outputs": [
        {
          "output_type": "execute_result",
          "data": {
            "text/html": [
              "<div>\n",
              "<style scoped>\n",
              "    .dataframe tbody tr th:only-of-type {\n",
              "        vertical-align: middle;\n",
              "    }\n",
              "\n",
              "    .dataframe tbody tr th {\n",
              "        vertical-align: top;\n",
              "    }\n",
              "\n",
              "    .dataframe thead th {\n",
              "        text-align: right;\n",
              "    }\n",
              "</style>\n",
              "<table border=\"1\" class=\"dataframe\">\n",
              "  <thead>\n",
              "    <tr style=\"text-align: right;\">\n",
              "      <th></th>\n",
              "      <th>k</th>\n",
              "      <th>x</th>\n",
              "      <th>f(x)</th>\n",
              "      <th>d</th>\n",
              "      <th>alpha</th>\n",
              "      <th>x_new</th>\n",
              "    </tr>\n",
              "  </thead>\n",
              "  <tbody>\n",
              "    <tr>\n",
              "      <th>0</th>\n",
              "      <td>1</td>\n",
              "      <td>[[0.00012842480669478782], [-0.0005282995214916529]]</td>\n",
              "      <td>2.306296e+07</td>\n",
              "      <td>[[77729.56748349387], [39998714.66353347]]</td>\n",
              "      <td>-0.003052</td>\n",
              "      <td>[[-237.2116864051917], [-122066.39049269611]]</td>\n",
              "    </tr>\n",
              "    <tr>\n",
              "      <th>1</th>\n",
              "      <td>2</td>\n",
              "      <td>[[-237.2116864051917], [-122066.39049269611]]</td>\n",
              "      <td>3.174340e+17</td>\n",
              "      <td>[[8233.460743630183], [122053.39051140878]]</td>\n",
              "      <td>0.997925</td>\n",
              "      <td>[[7979.1630180841585], [-266.2846051513334]]</td>\n",
              "    </tr>\n",
              "    <tr>\n",
              "      <th>2</th>\n",
              "      <td>3</td>\n",
              "      <td>[[7979.1630180841585], [-266.2846051513334]]</td>\n",
              "      <td>1.369169e+12</td>\n",
              "      <td>[[-555723.7540807067], [1222.2138249761895]]</td>\n",
              "      <td>0.119019</td>\n",
              "      <td>[[-58162.27499811324], [-120.81848218358621]]</td>\n",
              "    </tr>\n",
              "    <tr>\n",
              "      <th>3</th>\n",
              "      <td>4</td>\n",
              "      <td>[[-58162.27499811324], [-120.81848218358621]]</td>\n",
              "      <td>1.180602e+12</td>\n",
              "      <td>[[532223.8573115527], [1015.3270712740167]]</td>\n",
              "      <td>0.112915</td>\n",
              "      <td>[[1933.8026402151663], [-6.172786269466897]]</td>\n",
              "    </tr>\n",
              "    <tr>\n",
              "      <th>4</th>\n",
              "      <td>5</td>\n",
              "      <td>[[1933.8026402151663], [-6.172786269466897]]</td>\n",
              "      <td>4.185796e+08</td>\n",
              "      <td>[[-1820.4492530934288], [6.913452612264476]]</td>\n",
              "      <td>0.997925</td>\n",
              "      <td>[[117.13117487840123], [0.7263195783434169]]</td>\n",
              "    </tr>\n",
              "    <tr>\n",
              "      <th>5</th>\n",
              "      <td>6</td>\n",
              "      <td>[[117.13117487840123], [0.7263195783434169]]</td>\n",
              "      <td>3.836201e+06</td>\n",
              "      <td>[[-3.7076159997914253], [0.014192626932883848]]</td>\n",
              "      <td>0.997925</td>\n",
              "      <td>[[113.43125290595312], [0.7404827528034176]]</td>\n",
              "    </tr>\n",
              "    <tr>\n",
              "      <th>6</th>\n",
              "      <td>7</td>\n",
              "      <td>[[113.43125290595312], [0.7404827528034176]]</td>\n",
              "      <td>3.834444e+06</td>\n",
              "      <td>[[-0.007694450226597226], [2.9452869510578215e-05]]</td>\n",
              "      <td>0.997925</td>\n",
              "      <td>[[113.42357442321357], [0.7405121445524714]]</td>\n",
              "    </tr>\n",
              "    <tr>\n",
              "      <th>7</th>\n",
              "      <td>8</td>\n",
              "      <td>[[113.42357442321357], [0.7405121445524714]]</td>\n",
              "      <td>3.834444e+06</td>\n",
              "      <td>[[-1.5967482644302564e-05], [6.112045269140077e-08]]</td>\n",
              "      <td>4.116821</td>\n",
              "      <td>[[113.42350868794108], [0.7405123961744522]]</td>\n",
              "    </tr>\n",
              "    <tr>\n",
              "      <th>8</th>\n",
              "      <td>9</td>\n",
              "      <td>[[113.42350868794108], [0.7405123961744522]]</td>\n",
              "      <td>3.834444e+06</td>\n",
              "      <td>[[4.976778982875005e-05], [-1.905015280854266e-07]]</td>\n",
              "      <td>-0.149536</td>\n",
              "      <td>[[113.42350124585825], [0.740512424661314]]</td>\n",
              "    </tr>\n",
              "    <tr>\n",
              "      <th>9</th>\n",
              "      <td>10</td>\n",
              "      <td>[[113.42350124585825], [0.740512424661314]]</td>\n",
              "      <td>3.834444e+06</td>\n",
              "      <td>[[5.720987345245731e-05], [-2.1898839112979143e-07]]</td>\n",
              "      <td>1.412964</td>\n",
              "      <td>[[113.42358208134229], [0.7405121152386299]]</td>\n",
              "    </tr>\n",
              "    <tr>\n",
              "      <th>10</th>\n",
              "      <td>11</td>\n",
              "      <td>[[113.42358208134229], [0.7405121152386299]]</td>\n",
              "      <td>3.834444e+06</td>\n",
              "      <td>[[-2.3625611460484352e-05], [9.043429433138012e-08]]</td>\n",
              "      <td>0.485229</td>\n",
              "      <td>[[113.42357061749884], [0.7405121591200167]]</td>\n",
              "    </tr>\n",
              "    <tr>\n",
              "      <th>11</th>\n",
              "      <td>12</td>\n",
              "      <td>[[113.42357061749884], [0.7405121591200167]]</td>\n",
              "      <td>3.834444e+06</td>\n",
              "      <td>[[-1.2161767330198992e-05], [4.6552906451163215e-08]]</td>\n",
              "      <td>-4.812622</td>\n",
              "      <td>[[113.42362914748871], [0.7405119350784717]]</td>\n",
              "    </tr>\n",
              "    <tr>\n",
              "      <th>12</th>\n",
              "      <td>13</td>\n",
              "      <td>[[113.42362914748871], [0.7405119350784717]]</td>\n",
              "      <td>3.834444e+06</td>\n",
              "      <td>[[-7.069175752034157e-05], [2.7059445196617744e-07]]</td>\n",
              "      <td>0.369263</td>\n",
              "      <td>[[113.4236030436598], [0.7405120349989084]]</td>\n",
              "    </tr>\n",
              "    <tr>\n",
              "      <th>13</th>\n",
              "      <td>14</td>\n",
              "      <td>[[113.4236030436598], [0.7405120349989084]]</td>\n",
              "      <td>3.834444e+06</td>\n",
              "      <td>[[-4.458792904026431e-05], [1.7067401599407505e-07]]</td>\n",
              "      <td>-0.424194</td>\n",
              "      <td>[[113.42362195760674], [0.7405119625999576]]</td>\n",
              "    </tr>\n",
              "    <tr>\n",
              "      <th>14</th>\n",
              "      <td>15</td>\n",
              "      <td>[[113.42362195760674], [0.7405119625999576]]</td>\n",
              "      <td>3.834444e+06</td>\n",
              "      <td>[[-6.350187559142495e-05], [2.4307296607863423e-07]]</td>\n",
              "      <td>-0.051880</td>\n",
              "      <td>[[113.4236252520766], [0.7405119499893605]]</td>\n",
              "    </tr>\n",
              "    <tr>\n",
              "      <th>15</th>\n",
              "      <td>16</td>\n",
              "      <td>[[113.4236252520766], [0.7405119499893605]]</td>\n",
              "      <td>3.834444e+06</td>\n",
              "      <td>[[-6.67963427657512e-05], [2.5568355865356344e-07]]</td>\n",
              "      <td>0.680542</td>\n",
              "      <td>[[113.42357979436042], [0.7405121239927589]]</td>\n",
              "    </tr>\n",
              "    <tr>\n",
              "      <th>16</th>\n",
              "      <td>17</td>\n",
              "      <td>[[113.42357979436042], [0.7405121239927589]]</td>\n",
              "      <td>3.834444e+06</td>\n",
              "      <td>[[-2.1338629257436296e-05], [8.16801647748725e-08]]</td>\n",
              "      <td>6.863403</td>\n",
              "      <td>[[113.42343333874152], [0.740512684596673]]</td>\n",
              "    </tr>\n",
              "    <tr>\n",
              "      <th>17</th>\n",
              "      <td>18</td>\n",
              "      <td>[[113.42343333874152], [0.740512684596673]]</td>\n",
              "      <td>3.834444e+06</td>\n",
              "      <td>[[0.0001251169894897469], [-4.789237490177085e-07]]</td>\n",
              "      <td>0.973511</td>\n",
              "      <td>[[113.42355514147482], [0.7405122183592586]]</td>\n",
              "    </tr>\n",
              "  </tbody>\n",
              "</table>\n",
              "</div>"
            ],
            "text/plain": [
              "     k  ...                                          x_new\n",
              "0    1  ...  [[-237.2116864051917], [-122066.39049269611]]\n",
              "1    2  ...   [[7979.1630180841585], [-266.2846051513334]]\n",
              "2    3  ...  [[-58162.27499811324], [-120.81848218358621]]\n",
              "3    4  ...   [[1933.8026402151663], [-6.172786269466897]]\n",
              "4    5  ...   [[117.13117487840123], [0.7263195783434169]]\n",
              "5    6  ...   [[113.43125290595312], [0.7404827528034176]]\n",
              "6    7  ...   [[113.42357442321357], [0.7405121445524714]]\n",
              "7    8  ...   [[113.42350868794108], [0.7405123961744522]]\n",
              "8    9  ...    [[113.42350124585825], [0.740512424661314]]\n",
              "9   10  ...   [[113.42358208134229], [0.7405121152386299]]\n",
              "10  11  ...   [[113.42357061749884], [0.7405121591200167]]\n",
              "11  12  ...   [[113.42362914748871], [0.7405119350784717]]\n",
              "12  13  ...    [[113.4236030436598], [0.7405120349989084]]\n",
              "13  14  ...   [[113.42362195760674], [0.7405119625999576]]\n",
              "14  15  ...    [[113.4236252520766], [0.7405119499893605]]\n",
              "15  16  ...   [[113.42357979436042], [0.7405121239927589]]\n",
              "16  17  ...    [[113.42343333874152], [0.740512684596673]]\n",
              "17  18  ...   [[113.42355514147482], [0.7405122183592586]]\n",
              "\n",
              "[18 rows x 6 columns]"
            ]
          },
          "metadata": {
            "tags": []
          },
          "execution_count": 119
        }
      ]
    },
    {
      "cell_type": "code",
      "metadata": {
        "colab": {
          "base_uri": "https://localhost:8080/",
          "height": 283
        },
        "id": "NlVZTUid583J",
        "outputId": "2d3f60bf-ed53-44e5-9ff5-13a1bd4f69d6"
      },
      "source": [
        "import matplotlib.pyplot as plt\r\n",
        "plt.plot( pd.to_numeric(train[0]),(113.42301376648884 + 0.7405144495739371*pd.to_numeric(train[0])))\r\n",
        "plt.plot( pd.to_numeric(train[0]),pd.to_numeric(train[1]), 'o')"
      ],
      "execution_count": null,
      "outputs": [
        {
          "output_type": "execute_result",
          "data": {
            "text/plain": [
              "[<matplotlib.lines.Line2D at 0x7fcdaaec82b0>]"
            ]
          },
          "metadata": {
            "tags": []
          },
          "execution_count": 121
        },
        {
          "output_type": "display_data",
          "data": {
            "image/png": "[encoded data removed]",
            "text/plain": [
              "<Figure size 432x288 with 1 Axes>"
            ]
          },
          "metadata": {
            "tags": [],
            "needs_background": "light"
          }
        }
      ]
    },
    {
      "cell_type": "code",
      "metadata": {
        "colab": {
          "base_uri": "https://localhost:8080/",
          "height": 283
        },
        "id": "8yqkpR4_dPBs",
        "outputId": "bf7f7eee-037e-4222-8da5-a6593b7940ce"
      },
      "source": [
        "import matplotlib.pyplot as plt\r\n",
        "plt.plot( pd.to_numeric(test[0]),(113.42301376648884 + 0.7405144495739371*pd.to_numeric(test[0])))\r\n",
        "plt.plot( pd.to_numeric(test[0]),pd.to_numeric(test[1]), 'o')"
      ],
      "execution_count": null,
      "outputs": [
        {
          "output_type": "execute_result",
          "data": {
            "text/plain": [
              "[<matplotlib.lines.Line2D at 0x7fcdaae9cc50>]"
            ]
          },
          "metadata": {
            "tags": []
          },
          "execution_count": 122
        },
        {
          "output_type": "display_data",
          "data": {
            "image/png": "[encoded data removed]",
            "text/plain": [
              "<Figure size 432x288 with 1 Axes>"
            ]
          },
          "metadata": {
            "tags": [],
            "needs_background": "light"
          }
        }
      ]
    },
    {
      "cell_type": "code",
      "metadata": {
        "id": "VDeRRMul8_Hx"
      },
      "source": [
        "data = []\r\n",
        "sse = sum((pd.to_numeric(train[1]) - (113.42301376648884 + 0.7405144495739371*pd.to_numeric(train[0])))**2)\r\n",
        "mse = mean((pd.to_numeric(test[1]) - (113.42301376648884 + 0.7405144495739371*pd.to_numeric(test[0])))**2)\r\n",
        "k = 0\r\n",
        "\r\n",
        "for p in range(len(test)):\r\n",
        "  k = k + (mse - (float(test.loc[p,1]) - (113.42301376648884 + 0.7405144495739371*float(test.loc[p,0]))**2))**2\r\n",
        "k= k/(len(test)-1)\r\n",
        "\r\n",
        "\r\n",
        "data.append({\r\n",
        "      \"SSE\" : sse,\r\n",
        "      \"Test MSE\" : mse,\r\n",
        "      \"S2 for Test MSE\" : k\r\n",
        "\r\n",
        "    })\r\n"
      ],
      "execution_count": null,
      "outputs": []
    },
    {
      "cell_type": "code",
      "metadata": {
        "colab": {
          "base_uri": "https://localhost:8080/"
        },
        "id": "I4ySePjjBUwM",
        "outputId": "adb37895-5140-42b8-dcda-a1e103c30159"
      },
      "source": [
        "data"
      ],
      "execution_count": null,
      "outputs": [
        {
          "output_type": "execute_result",
          "data": {
            "text/plain": [
              "[{'S2 for Test MSE': 75337690276.60031,\n",
              "  'SSE': 3834444.148888797,\n",
              "  'Test MSE': 50191.32660154645}]"
            ]
          },
          "metadata": {
            "tags": []
          },
          "execution_count": 60
        }
      ]
    },
    {
      "cell_type": "code",
      "metadata": {
        "id": "NGIKDw_MCDUu"
      },
      "source": [
        "[[-379.8603148781845], [4.740908596871723], [-0.007537299456772834], [3.957024782783708e-06]]"
      ],
      "execution_count": null,
      "outputs": []
    },
    {
      "cell_type": "code",
      "metadata": {
        "colab": {
          "base_uri": "https://localhost:8080/",
          "height": 283
        },
        "id": "M-hy8ymNSPEj",
        "outputId": "91ee85cf-61d4-45c6-e905-c5fdb5f9f90e"
      },
      "source": [
        "import matplotlib.pyplot as plt\r\n",
        "plt.plot( pd.to_numeric(train[0]),(-379.8603148781845 + 4.740908596871723*pd.to_numeric(train[0]) \r\n",
        "+ -0.007537299456772834*pd.to_numeric(train[0])**2+ 3.957024782783708e-06*pd.to_numeric(train[0])**3 ), 'o')\r\n",
        "plt.plot( pd.to_numeric(train[0]),pd.to_numeric(train[1]), 'o')"
      ],
      "execution_count": null,
      "outputs": [
        {
          "output_type": "execute_result",
          "data": {
            "text/plain": [
              "[<matplotlib.lines.Line2D at 0x7fcdaae07908>]"
            ]
          },
          "metadata": {
            "tags": []
          },
          "execution_count": 123
        },
        {
          "output_type": "display_data",
          "data": {
            "image/png": "[encoded data removed]",
            "text/plain": [
              "<Figure size 432x288 with 1 Axes>"
            ]
          },
          "metadata": {
            "tags": [],
            "needs_background": "light"
          }
        }
      ]
    },
    {
      "cell_type": "code",
      "metadata": {
        "colab": {
          "base_uri": "https://localhost:8080/",
          "height": 283
        },
        "id": "NikKZfhdfNvm",
        "outputId": "e6dc59d8-5416-4eef-f6bc-0a836fe61c6d"
      },
      "source": [
        "import matplotlib.pyplot as plt\r\n",
        "plt.plot( pd.to_numeric(test[0]),(-379.8603148781845 + 4.740908596871723*pd.to_numeric(test[0]) \r\n",
        "+ -0.007537299456772834*pd.to_numeric(test[0])**2+ 3.957024782783708e-06*pd.to_numeric(test[0])**3 ), 'o')\r\n",
        "plt.plot( pd.to_numeric(test[0]),pd.to_numeric(test[1]), 'o')"
      ],
      "execution_count": null,
      "outputs": [
        {
          "output_type": "execute_result",
          "data": {
            "text/plain": [
              "[<matplotlib.lines.Line2D at 0x7fcdaade0470>]"
            ]
          },
          "metadata": {
            "tags": []
          },
          "execution_count": 124
        },
        {
          "output_type": "display_data",
          "data": {
            "image/png": "[encoded data removed]",
            "text/plain": [
              "<Figure size 432x288 with 1 Axes>"
            ]
          },
          "metadata": {
            "tags": [],
            "needs_background": "light"
          }
        }
      ]
    },
    {
      "cell_type": "code",
      "metadata": {
        "id": "52Ywx66cUbS_"
      },
      "source": [
        "data = []\r\n",
        "sse = sum((pd.to_numeric(train[1]) - (-379.8603148781845 + 4.740908596871723*pd.to_numeric(train[0]) + -0.007537299456772834*pd.to_numeric(train[0])**2+ 3.957024782783708e-06*pd.to_numeric(train[0])**3 ))**2)\r\n",
        "mse = mean((pd.to_numeric(test[1]) - (-379.8603148781845 + 4.740908596871723*pd.to_numeric(test[0]) + -0.007537299456772834*pd.to_numeric(test[0])**2+ 3.957024782783708e-06*pd.to_numeric(test[0])**3 ))**2)\r\n",
        "k = 0\r\n",
        "\r\n",
        "for p in range(len(test)):\r\n",
        "  k = k + (mse - (float(test.loc[p,1]) - (-379.8603148781845 + 4.740908596871723*float(test.loc[p,0]) + -0.007537299456772834*float(test.loc[p,0])**2+ 3.957024782783708e-06*float(test.loc[p,0])**3)**2))**2\r\n",
        "k= k/(len(test)-1)\r\n",
        "\r\n",
        "\r\n",
        "data.append({\r\n",
        "      \"SSE\" : sse,\r\n",
        "      \"Test MSE\" : mse,\r\n",
        "      \"S2 for Test MSE\" : k\r\n",
        "\r\n",
        "    })"
      ],
      "execution_count": null,
      "outputs": []
    },
    {
      "cell_type": "code",
      "metadata": {
        "colab": {
          "base_uri": "https://localhost:8080/"
        },
        "id": "gQyWhlueZsCl",
        "outputId": "457b528c-c2b5-44ab-f266-8c19b900d7bd"
      },
      "source": [
        "data "
      ],
      "execution_count": null,
      "outputs": [
        {
          "output_type": "execute_result",
          "data": {
            "text/plain": [
              "[{'S2 for Test MSE': 76102997743.76323,\n",
              "  'SSE': 3145318.304039767,\n",
              "  'Test MSE': 42217.66068362533}]"
            ]
          },
          "metadata": {
            "tags": []
          },
          "execution_count": 127
        }
      ]
    },
    {
      "cell_type": "code",
      "metadata": {
        "id": "vysGj12gPKW7"
      },
      "source": [
        "# SECOND QUESTION"
      ],
      "execution_count": null,
      "outputs": []
    },
    {
      "cell_type": "code",
      "metadata": {
        "id": "fNrxnu0GPGPl"
      },
      "source": [
        "def sig(z):\r\n",
        "  if z<0:\r\n",
        "    return np.exp(z)/(1.0+np.exp(z))\r\n",
        "\r\n",
        "  else:\r\n",
        "    return 1.0/(1.0 + np.exp(-z))\r\n",
        "\r\n",
        "\r\n",
        "def sig_dif(x):\r\n",
        "\r\n",
        "  a = sig(x)*(1.0-sig(x))\r\n",
        "  return a"
      ],
      "execution_count": 7,
      "outputs": []
    },
    {
      "cell_type": "code",
      "metadata": {
        "id": "DlvhUHAEUDwH"
      },
      "source": [
        "def f1_test(i): #returns f1 test preds\r\n",
        "  x = pd.DataFrame({ 0 : np.repeat(1.0,len(train[0])), 1 : ((pd.to_numeric(train[0])-pd.to_numeric(train[0]).mean())/pd.to_numeric(train[0]).std())})\r\n",
        "  #train[1] = ((pd.to_numeric(train[1])-pd.to_numeric(train[1]).mean())/pd.to_numeric(train[1]).std())\r\n",
        "  \r\n",
        "  x_test = pd.DataFrame({ 0 : np.repeat(1.0,len(test[0])), 1 : ((pd.to_numeric(test[0])-pd.to_numeric(test[0]).mean())/pd.to_numeric(test[0]).std())})\r\n",
        "  \r\n",
        "  ytrain = (pd.to_numeric(train[1]) - pd.to_numeric(train[1]).mean())/pd.to_numeric(train[1]).std()\r\n",
        " # x = pd.DataFrame({ 0 : np.repeat(1.0,len(train[0])), 1 :pd.to_numeric(train[0]), 2 :pd.to_numeric(train[0])**2, 3 :pd.to_numeric(train[0])**3})\r\n",
        "  #x_test = pd.DataFrame({ 0 : np.repeat(1.0,len(test[0])), 1 :pd.to_numeric(test[0]), 2 :pd.to_numeric(test[0])**2, 3 :pd.to_numeric(test[0])**3})\r\n",
        "\r\n",
        "  P = len(train)\r\n",
        "  t = 0\r\n",
        "  epsilon= 0.001\r\n",
        "  n = 0.9\r\n",
        "  alpha = 0.5\r\n",
        "  J = i\r\n",
        "  K = 1\r\n",
        "  wjk = np.random.uniform(-0.001, 0.001,size=(J,K+1))\r\n",
        "  #np.random.uniform(-0.001, 0.001,size=(J,K+1))\r\n",
        "  Wij = np.random.uniform(-0.001, 0.001,size=(1,J+1))\r\n",
        "  #np.random.uniform(-0.001, 0.001,size=(1,J+1))\r\n",
        "  hjp = np.zeros(shape=(J,P))\r\n",
        "  Hjp = np.zeros(shape=(J,P))\r\n",
        "  Hjp = np.insert(Hjp, 0, np.repeat(1.0,P), axis=0)\r\n",
        "  op = np.zeros(shape = (1,P))\r\n",
        "  d_ip = np.zeros(shape = (1,P))\r\n",
        "  d_jp = np.zeros(shape=(J,P))\r\n",
        "  delta_Wij = np.zeros(shape=(1,J+1))\r\n",
        "  delta_wjk = np.zeros(shape=(J,K+1))\r\n",
        "  while alpha > epsilon:\r\n",
        "    #x = x.sample(frac=1).reset_index(drop=True)\r\n",
        "    for p in range(P):\r\n",
        "      for j in range(J):\r\n",
        "        hjp[j,p] =   np.dot(x.loc[p],wjk[j].transpose())\r\n",
        "        Hjp[j+1,p] = sig(hjp[j,p])\r\n",
        "      op[0,p] = np.dot(Wij[0],Hjp.transpose()[p])\r\n",
        "      d_ip[0,p] = (ytrain[p])-op[0,p]  #\r\n",
        "\r\n",
        "      for j in range(J):\r\n",
        "        d_jp[j,p] = sig_dif(hjp[j,p])*(d_ip[0,p]*Wij[0,j+1])   #\r\n",
        "\r\n",
        "      for j in range(J+1):\r\n",
        "        #delta_Wij[0,j] = alpha * float(d_ip[0,p]*Hjp[j,p])\r\n",
        "        Wij[0,j] = Wij[0,j] + alpha * d_ip[0,p]*Hjp[j,p]\r\n",
        "\r\n",
        "      for j in range(J):\r\n",
        "        for k in range(K+1):\r\n",
        "          #delta_wjk[j,k] = alpha * float(x.loc[p,k]*d_jp[j,p])\r\n",
        "          wjk[j,k] = wjk[j,k] + alpha * x.loc[p,k]*d_jp[j,p]\r\n",
        "\r\n",
        "    alpha = alpha * n\r\n",
        "    t = t + 1\r\n",
        "  \r\n",
        "\r\n",
        "  unit = np.zeros(shape=(J,P))\r\n",
        "  a = []\r\n",
        "\r\n",
        "  P_new = len(x_test)\r\n",
        "\r\n",
        "  for p in range(P_new):\r\n",
        "    for j in range(J):\r\n",
        "      unit[j,p]= unit[j,p] + sig(np.dot(x_test.loc[p],wjk[j]))\r\n",
        "\r\n",
        "  for p in range(P_new):\r\n",
        "    a.append(float(np.dot(np.insert(unit[:,p], 0, 1.0),Wij[0].transpose())))\r\n",
        "  return a"
      ],
      "execution_count": 46,
      "outputs": []
    },
    {
      "cell_type": "code",
      "metadata": {
        "colab": {
          "base_uri": "https://localhost:8080/",
          "height": 831
        },
        "id": "S-UY7XXAUFnF",
        "outputId": "f2c15c75-0411-4380-fa0c-0845317743fa"
      },
      "source": [
        "ytest = (pd.to_numeric(test[1]) - pd.to_numeric(test[1]).mean())/pd.to_numeric(test[1]).std()\r\n",
        "for i in range(3,20):\r\n",
        "  print('Number of hidden unit is: ', i)\r\n",
        "  print('Average test error is: ',np.mean(ytest-f1(i)))\r\n",
        "  print('Average test sd is: ',(ytest-f1(i)).std())"
      ],
      "execution_count": 23,
      "outputs": [
        {
          "output_type": "stream",
          "text": [
            "Number of hidden unit is:  3\n",
            "Average test error is:  -0.010809980820674752\n",
            "Average test sd is:  0.6244569112019861\n",
            "Number of hidden unit is:  4\n",
            "Average test error is:  -0.011792697440465672\n",
            "Average test sd is:  0.6262228455323915\n",
            "Number of hidden unit is:  5\n",
            "Average test error is:  -0.012552481916301012\n",
            "Average test sd is:  0.6276493577932032\n",
            "Number of hidden unit is:  6\n",
            "Average test error is:  -0.0131397970796789\n",
            "Average test sd is:  0.628809801123761\n",
            "Number of hidden unit is:  7\n",
            "Average test error is:  -0.013588477149004158\n",
            "Average test sd is:  0.6297471578388271\n",
            "Number of hidden unit is:  8\n",
            "Average test error is:  -0.013927517944861028\n",
            "Average test sd is:  0.630497382989461\n",
            "Number of hidden unit is:  9\n",
            "Average test error is:  -0.014181914705443865\n",
            "Average test sd is:  0.6310953661423524\n",
            "Number of hidden unit is:  10\n",
            "Average test error is:  -0.01437251766973699\n",
            "Average test sd is:  0.6315787333287107\n",
            "Number of hidden unit is:  11\n",
            "Average test error is:  -0.014519668496436416\n"
          ],
          "name": "stdout"
        },
        {
          "output_type": "error",
          "ename": "KeyboardInterrupt",
          "evalue": "ignored",
          "traceback": [
            "\u001b[0;31m---------------------------------------------------------------------------\u001b[0m",
            "\u001b[0;31mKeyboardInterrupt\u001b[0m                         Traceback (most recent call last)",
            "\u001b[0;32m<ipython-input-23-41dd1b6536a9>\u001b[0m in \u001b[0;36m<module>\u001b[0;34m()\u001b[0m\n\u001b[1;32m      3\u001b[0m   \u001b[0mprint\u001b[0m\u001b[0;34m(\u001b[0m\u001b[0;34m'Number of hidden unit is: '\u001b[0m\u001b[0;34m,\u001b[0m \u001b[0mi\u001b[0m\u001b[0;34m)\u001b[0m\u001b[0;34m\u001b[0m\u001b[0;34m\u001b[0m\u001b[0m\n\u001b[1;32m      4\u001b[0m   \u001b[0mprint\u001b[0m\u001b[0;34m(\u001b[0m\u001b[0;34m'Average test error is: '\u001b[0m\u001b[0;34m,\u001b[0m\u001b[0mnp\u001b[0m\u001b[0;34m.\u001b[0m\u001b[0mmean\u001b[0m\u001b[0;34m(\u001b[0m\u001b[0mytest\u001b[0m\u001b[0;34m-\u001b[0m\u001b[0mf1\u001b[0m\u001b[0;34m(\u001b[0m\u001b[0mi\u001b[0m\u001b[0;34m)\u001b[0m\u001b[0;34m)\u001b[0m\u001b[0;34m)\u001b[0m\u001b[0;34m\u001b[0m\u001b[0;34m\u001b[0m\u001b[0m\n\u001b[0;32m----> 5\u001b[0;31m   \u001b[0mprint\u001b[0m\u001b[0;34m(\u001b[0m\u001b[0;34m'Average test sd is: '\u001b[0m\u001b[0;34m,\u001b[0m\u001b[0;34m(\u001b[0m\u001b[0mytest\u001b[0m\u001b[0;34m-\u001b[0m\u001b[0mf1\u001b[0m\u001b[0;34m(\u001b[0m\u001b[0mi\u001b[0m\u001b[0;34m)\u001b[0m\u001b[0;34m)\u001b[0m\u001b[0;34m.\u001b[0m\u001b[0mstd\u001b[0m\u001b[0;34m(\u001b[0m\u001b[0;34m)\u001b[0m\u001b[0;34m)\u001b[0m\u001b[0;34m\u001b[0m\u001b[0;34m\u001b[0m\u001b[0m\n\u001b[0m",
            "\u001b[0;32m<ipython-input-21-c47857d534ad>\u001b[0m in \u001b[0;36mf1\u001b[0;34m(i)\u001b[0m\n\u001b[1;32m     32\u001b[0m     \u001b[0;32mfor\u001b[0m \u001b[0mp\u001b[0m \u001b[0;32min\u001b[0m \u001b[0mrange\u001b[0m\u001b[0;34m(\u001b[0m\u001b[0mP\u001b[0m\u001b[0;34m)\u001b[0m\u001b[0;34m:\u001b[0m\u001b[0;34m\u001b[0m\u001b[0;34m\u001b[0m\u001b[0m\n\u001b[1;32m     33\u001b[0m       \u001b[0;32mfor\u001b[0m \u001b[0mj\u001b[0m \u001b[0;32min\u001b[0m \u001b[0mrange\u001b[0m\u001b[0;34m(\u001b[0m\u001b[0mJ\u001b[0m\u001b[0;34m)\u001b[0m\u001b[0;34m:\u001b[0m\u001b[0;34m\u001b[0m\u001b[0;34m\u001b[0m\u001b[0m\n\u001b[0;32m---> 34\u001b[0;31m         \u001b[0mhjp\u001b[0m\u001b[0;34m[\u001b[0m\u001b[0mj\u001b[0m\u001b[0;34m,\u001b[0m\u001b[0mp\u001b[0m\u001b[0;34m]\u001b[0m \u001b[0;34m=\u001b[0m   \u001b[0mnp\u001b[0m\u001b[0;34m.\u001b[0m\u001b[0mdot\u001b[0m\u001b[0;34m(\u001b[0m\u001b[0mx\u001b[0m\u001b[0;34m.\u001b[0m\u001b[0mloc\u001b[0m\u001b[0;34m[\u001b[0m\u001b[0mp\u001b[0m\u001b[0;34m]\u001b[0m\u001b[0;34m,\u001b[0m\u001b[0mwjk\u001b[0m\u001b[0;34m[\u001b[0m\u001b[0mj\u001b[0m\u001b[0;34m]\u001b[0m\u001b[0;34m.\u001b[0m\u001b[0mtranspose\u001b[0m\u001b[0;34m(\u001b[0m\u001b[0;34m)\u001b[0m\u001b[0;34m)\u001b[0m\u001b[0;34m\u001b[0m\u001b[0;34m\u001b[0m\u001b[0m\n\u001b[0m\u001b[1;32m     35\u001b[0m         \u001b[0mHjp\u001b[0m\u001b[0;34m[\u001b[0m\u001b[0mj\u001b[0m\u001b[0;34m+\u001b[0m\u001b[0;36m1\u001b[0m\u001b[0;34m,\u001b[0m\u001b[0mp\u001b[0m\u001b[0;34m]\u001b[0m \u001b[0;34m=\u001b[0m \u001b[0msig\u001b[0m\u001b[0;34m(\u001b[0m\u001b[0mhjp\u001b[0m\u001b[0;34m[\u001b[0m\u001b[0mj\u001b[0m\u001b[0;34m,\u001b[0m\u001b[0mp\u001b[0m\u001b[0;34m]\u001b[0m\u001b[0;34m)\u001b[0m\u001b[0;34m\u001b[0m\u001b[0;34m\u001b[0m\u001b[0m\n\u001b[1;32m     36\u001b[0m       \u001b[0mop\u001b[0m\u001b[0;34m[\u001b[0m\u001b[0;36m0\u001b[0m\u001b[0;34m,\u001b[0m\u001b[0mp\u001b[0m\u001b[0;34m]\u001b[0m \u001b[0;34m=\u001b[0m \u001b[0mnp\u001b[0m\u001b[0;34m.\u001b[0m\u001b[0mdot\u001b[0m\u001b[0;34m(\u001b[0m\u001b[0mWij\u001b[0m\u001b[0;34m[\u001b[0m\u001b[0;36m0\u001b[0m\u001b[0;34m]\u001b[0m\u001b[0;34m,\u001b[0m\u001b[0mHjp\u001b[0m\u001b[0;34m.\u001b[0m\u001b[0mtranspose\u001b[0m\u001b[0;34m(\u001b[0m\u001b[0;34m)\u001b[0m\u001b[0;34m[\u001b[0m\u001b[0mp\u001b[0m\u001b[0;34m]\u001b[0m\u001b[0;34m)\u001b[0m\u001b[0;34m\u001b[0m\u001b[0;34m\u001b[0m\u001b[0m\n",
            "\u001b[0;32m<__array_function__ internals>\u001b[0m in \u001b[0;36mdot\u001b[0;34m(*args, **kwargs)\u001b[0m\n",
            "\u001b[0;32m/usr/local/lib/python3.6/dist-packages/pandas/core/series.py\u001b[0m in \u001b[0;36m__array__\u001b[0;34m(self, dtype)\u001b[0m\n\u001b[1;32m    795\u001b[0m               dtype='datetime64[ns]')\n\u001b[1;32m    796\u001b[0m         \"\"\"\n\u001b[0;32m--> 797\u001b[0;31m         \u001b[0;32mreturn\u001b[0m \u001b[0mnp\u001b[0m\u001b[0;34m.\u001b[0m\u001b[0masarray\u001b[0m\u001b[0;34m(\u001b[0m\u001b[0mself\u001b[0m\u001b[0;34m.\u001b[0m\u001b[0marray\u001b[0m\u001b[0;34m,\u001b[0m \u001b[0mdtype\u001b[0m\u001b[0;34m)\u001b[0m\u001b[0;34m\u001b[0m\u001b[0;34m\u001b[0m\u001b[0m\n\u001b[0m\u001b[1;32m    798\u001b[0m \u001b[0;34m\u001b[0m\u001b[0m\n\u001b[1;32m    799\u001b[0m     \u001b[0;31m# ----------------------------------------------------------------------\u001b[0m\u001b[0;34m\u001b[0m\u001b[0;34m\u001b[0m\u001b[0;34m\u001b[0m\u001b[0m\n",
            "\u001b[0;32m/usr/local/lib/python3.6/dist-packages/pandas/core/series.py\u001b[0m in \u001b[0;36marray\u001b[0;34m(self)\u001b[0m\n\u001b[1;32m    575\u001b[0m     \u001b[0;34m@\u001b[0m\u001b[0mproperty\u001b[0m\u001b[0;34m\u001b[0m\u001b[0;34m\u001b[0m\u001b[0m\n\u001b[1;32m    576\u001b[0m     \u001b[0;32mdef\u001b[0m \u001b[0marray\u001b[0m\u001b[0;34m(\u001b[0m\u001b[0mself\u001b[0m\u001b[0;34m)\u001b[0m \u001b[0;34m->\u001b[0m \u001b[0mExtensionArray\u001b[0m\u001b[0;34m:\u001b[0m\u001b[0;34m\u001b[0m\u001b[0;34m\u001b[0m\u001b[0m\n\u001b[0;32m--> 577\u001b[0;31m         \u001b[0;32mreturn\u001b[0m \u001b[0mself\u001b[0m\u001b[0;34m.\u001b[0m\u001b[0m_mgr\u001b[0m\u001b[0;34m.\u001b[0m\u001b[0m_block\u001b[0m\u001b[0;34m.\u001b[0m\u001b[0marray_values\u001b[0m\u001b[0;34m(\u001b[0m\u001b[0;34m)\u001b[0m\u001b[0;34m\u001b[0m\u001b[0;34m\u001b[0m\u001b[0m\n\u001b[0m\u001b[1;32m    578\u001b[0m \u001b[0;34m\u001b[0m\u001b[0m\n\u001b[1;32m    579\u001b[0m     \u001b[0;31m# ops\u001b[0m\u001b[0;34m\u001b[0m\u001b[0;34m\u001b[0m\u001b[0;34m\u001b[0m\u001b[0m\n",
            "\u001b[0;32m/usr/local/lib/python3.6/dist-packages/pandas/core/internals/blocks.py\u001b[0m in \u001b[0;36marray_values\u001b[0;34m(self)\u001b[0m\n\u001b[1;32m    209\u001b[0m         \u001b[0mThe\u001b[0m \u001b[0marray\u001b[0m \u001b[0mthat\u001b[0m \u001b[0mSeries\u001b[0m\u001b[0;34m.\u001b[0m\u001b[0marray\u001b[0m \u001b[0mreturns\u001b[0m\u001b[0;34m.\u001b[0m \u001b[0mAlways\u001b[0m \u001b[0man\u001b[0m \u001b[0mExtensionArray\u001b[0m\u001b[0;34m.\u001b[0m\u001b[0;34m\u001b[0m\u001b[0;34m\u001b[0m\u001b[0m\n\u001b[1;32m    210\u001b[0m         \"\"\"\n\u001b[0;32m--> 211\u001b[0;31m         \u001b[0;32mreturn\u001b[0m \u001b[0mPandasArray\u001b[0m\u001b[0;34m(\u001b[0m\u001b[0mself\u001b[0m\u001b[0;34m.\u001b[0m\u001b[0mvalues\u001b[0m\u001b[0;34m)\u001b[0m\u001b[0;34m\u001b[0m\u001b[0;34m\u001b[0m\u001b[0m\n\u001b[0m\u001b[1;32m    212\u001b[0m \u001b[0;34m\u001b[0m\u001b[0m\n\u001b[1;32m    213\u001b[0m     \u001b[0;32mdef\u001b[0m \u001b[0mget_values\u001b[0m\u001b[0;34m(\u001b[0m\u001b[0mself\u001b[0m\u001b[0;34m,\u001b[0m \u001b[0mdtype\u001b[0m\u001b[0;34m=\u001b[0m\u001b[0;32mNone\u001b[0m\u001b[0;34m)\u001b[0m\u001b[0;34m:\u001b[0m\u001b[0;34m\u001b[0m\u001b[0;34m\u001b[0m\u001b[0m\n",
            "\u001b[0;32m/usr/local/lib/python3.6/dist-packages/pandas/core/arrays/numpy_.py\u001b[0m in \u001b[0;36m__init__\u001b[0;34m(self, values, copy)\u001b[0m\n\u001b[1;32m    168\u001b[0m             )\n\u001b[1;32m    169\u001b[0m \u001b[0;34m\u001b[0m\u001b[0m\n\u001b[0;32m--> 170\u001b[0;31m         \u001b[0;32mif\u001b[0m \u001b[0mvalues\u001b[0m\u001b[0;34m.\u001b[0m\u001b[0mndim\u001b[0m \u001b[0;34m!=\u001b[0m \u001b[0;36m1\u001b[0m\u001b[0;34m:\u001b[0m\u001b[0;34m\u001b[0m\u001b[0;34m\u001b[0m\u001b[0m\n\u001b[0m\u001b[1;32m    171\u001b[0m             \u001b[0;32mraise\u001b[0m \u001b[0mValueError\u001b[0m\u001b[0;34m(\u001b[0m\u001b[0;34m\"PandasArray must be 1-dimensional.\"\u001b[0m\u001b[0;34m)\u001b[0m\u001b[0;34m\u001b[0m\u001b[0;34m\u001b[0m\u001b[0m\n\u001b[1;32m    172\u001b[0m \u001b[0;34m\u001b[0m\u001b[0m\n",
            "\u001b[0;31mKeyboardInterrupt\u001b[0m: "
          ]
        }
      ]
    },
    {
      "cell_type": "code",
      "metadata": {
        "colab": {
          "base_uri": "https://localhost:8080/",
          "height": 283
        },
        "id": "yIrQuy4VUqGf",
        "outputId": "d2a18e64-0cc5-40b0-cee6-af885d8a7cea"
      },
      "source": [
        "x_test = pd.DataFrame({ 0 : np.repeat(1.0,len(test[0])), 1 : ((pd.to_numeric(test[0])-pd.to_numeric(test[0]).mean())/pd.to_numeric(test[0]).std())})\r\n",
        "\r\n",
        "import matplotlib.pyplot as plt\r\n",
        "plt.plot(x_test[1], ytest, 'o')\r\n",
        "plt.plot(x_test[1], f1(3), 'o')"
      ],
      "execution_count": 37,
      "outputs": [
        {
          "output_type": "execute_result",
          "data": {
            "text/plain": [
              "[<matplotlib.lines.Line2D at 0x7f57ed263860>]"
            ]
          },
          "metadata": {
            "tags": []
          },
          "execution_count": 37
        },
        {
          "output_type": "display_data",
          "data": {
            "image/png": "[encoded data removed]",
            "text/plain": [
              "<Figure size 432x288 with 1 Axes>"
            ]
          },
          "metadata": {
            "tags": [],
            "needs_background": "light"
          }
        }
      ]
    },
    {
      "cell_type": "code",
      "metadata": {
        "id": "PRHcnWihPRcB"
      },
      "source": [
        "# Online learning no index for output unit since there is only one\r\n",
        "\r\n",
        "def f1_train(i):\r\n",
        "  x = pd.DataFrame({ 0 : np.repeat(1.0,len(train[0])), 1 : ((pd.to_numeric(train[0])-pd.to_numeric(train[0]).mean())/pd.to_numeric(train[0]).std())})\r\n",
        "  #train[1] = ((pd.to_numeric(train[1])-pd.to_numeric(train[1]).mean())/pd.to_numeric(train[1]).std())\r\n",
        "  \r\n",
        "  x_test = pd.DataFrame({ 0 : np.repeat(1.0,len(test[0])), 1 : ((pd.to_numeric(test[0])-pd.to_numeric(test[0]).mean())/pd.to_numeric(test[0]).std())})\r\n",
        "  \r\n",
        "  ytrain = (pd.to_numeric(train[1]) - pd.to_numeric(train[1]).mean())/pd.to_numeric(train[1]).std()\r\n",
        " # x = pd.DataFrame({ 0 : np.repeat(1.0,len(train[0])), 1 :pd.to_numeric(train[0]), 2 :pd.to_numeric(train[0])**2, 3 :pd.to_numeric(train[0])**3})\r\n",
        "  #x_test = pd.DataFrame({ 0 : np.repeat(1.0,len(test[0])), 1 :pd.to_numeric(test[0]), 2 :pd.to_numeric(test[0])**2, 3 :pd.to_numeric(test[0])**3})\r\n",
        "\r\n",
        "  P = len(train)\r\n",
        "  t = 0\r\n",
        "  epsilon= 0.001\r\n",
        "  n = 0.9\r\n",
        "  alpha = 0.5\r\n",
        "  J = i\r\n",
        "  K = 1\r\n",
        "  wjk = np.random.uniform(-0.001, 0.001,size=(J,K+1))\r\n",
        "  #np.random.uniform(-0.001, 0.001,size=(J,K+1))\r\n",
        "  Wij = np.random.uniform(-0.001, 0.001,size=(1,J+1))\r\n",
        "  #np.random.uniform(-0.001, 0.001,size=(1,J+1))\r\n",
        "  hjp = np.zeros(shape=(J,P))\r\n",
        "  Hjp = np.zeros(shape=(J,P))\r\n",
        "  Hjp = np.insert(Hjp, 0, np.repeat(1.0,P), axis=0)\r\n",
        "  op = np.zeros(shape = (1,P))\r\n",
        "  d_ip = np.zeros(shape = (1,P))\r\n",
        "  d_jp = np.zeros(shape=(J,P))\r\n",
        "  delta_Wij = np.zeros(shape=(1,J+1))\r\n",
        "  delta_wjk = np.zeros(shape=(J,K+1))\r\n",
        "  while alpha > epsilon:\r\n",
        "    #x = x.sample(frac=1).reset_index(drop=True)\r\n",
        "    for p in range(P):\r\n",
        "      for j in range(J):\r\n",
        "        hjp[j,p] =   np.dot(x.loc[p],wjk[j].transpose())\r\n",
        "        Hjp[j+1,p] = sig(hjp[j,p])\r\n",
        "      op[0,p] = np.dot(Wij[0],Hjp.transpose()[p])\r\n",
        "      d_ip[0,p] = (ytrain[p])-op[0,p]  #\r\n",
        "\r\n",
        "      for j in range(J):\r\n",
        "        d_jp[j,p] = sig_dif(hjp[j,p])*(d_ip[0,p]*Wij[0,j+1])   #\r\n",
        "\r\n",
        "      for j in range(J+1):\r\n",
        "        #delta_Wij[0,j] = alpha * float(d_ip[0,p]*Hjp[j,p])\r\n",
        "        Wij[0,j] = Wij[0,j] + alpha * d_ip[0,p]*Hjp[j,p]\r\n",
        "\r\n",
        "      for j in range(J):\r\n",
        "        for k in range(K+1):\r\n",
        "          #delta_wjk[j,k] = alpha * float(x.loc[p,k]*d_jp[j,p])\r\n",
        "          wjk[j,k] = wjk[j,k] + alpha * x.loc[p,k]*d_jp[j,p]\r\n",
        "\r\n",
        "    alpha = alpha * n\r\n",
        "    t = t + 1\r\n",
        "  \r\n",
        "  #FITTING\r\n",
        "\r\n",
        "  unit = np.zeros(shape=(J,P))\r\n",
        "  a = []\r\n",
        "\r\n",
        "  P_new = len(x)\r\n",
        "\r\n",
        "  for p in range(P_new):\r\n",
        "    for j in range(J):\r\n",
        "      unit[j,p]= unit[j,p] + sig(np.dot(x.loc[p],wjk[j]))\r\n",
        "\r\n",
        "  for p in range(P_new):\r\n",
        "    a.append(float(np.dot(np.insert(unit[:,p], 0, 1.0),Wij[0].transpose())))\r\n",
        "  return a"
      ],
      "execution_count": 49,
      "outputs": []
    },
    {
      "cell_type": "code",
      "metadata": {
        "colab": {
          "base_uri": "https://localhost:8080/"
        },
        "id": "wkGGlaNVPc31",
        "outputId": "2329f8e1-5f6d-40f3-8757-b33742b7db54"
      },
      "source": [
        "ytest = (pd.to_numeric(test[1]) - pd.to_numeric(test[1]).mean())/pd.to_numeric(test[1]).std()\r\n",
        "for i in range(3,7):\r\n",
        "  print('Number of hidden unit is: ', i)\r\n",
        "  print('Average test error is: ',np.mean(ytest-f2(i)))\r\n",
        "  print('Average test sd is: ',(ytest-f2(i)).std())"
      ],
      "execution_count": 43,
      "outputs": [
        {
          "output_type": "stream",
          "text": [
            "Number of hidden unit is:  3\n",
            "Average test error is:  0.002897486282278633\n",
            "Average test sd is:  0.6266630925956373\n",
            "Number of hidden unit is:  4\n",
            "Average test error is:  -0.00022609984093218126\n",
            "Average test sd is:  0.6288892703701915\n",
            "Number of hidden unit is:  5\n",
            "Average test error is:  -0.0022153472240690696\n",
            "Average test sd is:  0.6307414442562229\n",
            "Number of hidden unit is:  6\n",
            "Average test error is:  -0.003351944532913609\n",
            "Average test sd is:  0.632290280354848\n"
          ],
          "name": "stdout"
        }
      ]
    },
    {
      "cell_type": "code",
      "metadata": {
        "colab": {
          "base_uri": "https://localhost:8080/",
          "height": 283
        },
        "id": "kkVW_NCiRSU6",
        "outputId": "50a93cd1-509c-4423-d956-232aa9bf5e08"
      },
      "source": [
        "x_test = pd.DataFrame({ 0 : np.repeat(1.0,len(test[0])), 1 : ((pd.to_numeric(test[0])-pd.to_numeric(test[0]).mean())/pd.to_numeric(test[0]).std()),\r\n",
        "                    2 : ((pd.to_numeric(test[0])**2-(pd.to_numeric(test[0])**2).mean())/(pd.to_numeric(test[0])**2).std()), 3 :((pd.to_numeric(test[0])**3-(pd.to_numeric(test[0])**3).mean())/(pd.to_numeric(test[0])**3).std())})\r\n",
        "  \r\n",
        "\r\n",
        "import matplotlib.pyplot as plt\r\n",
        "plt.plot(x_test[1], ytest, 'o')\r\n",
        "plt.plot(x_test[1], f2(4), 'o')"
      ],
      "execution_count": 19,
      "outputs": [
        {
          "output_type": "execute_result",
          "data": {
            "text/plain": [
              "[<matplotlib.lines.Line2D at 0x7f57eda26390>]"
            ]
          },
          "metadata": {
            "tags": []
          },
          "execution_count": 19
        },
        {
          "output_type": "display_data",
          "data": {
            "image/png": "[encoded data removed]",
            "text/plain": [
              "<Figure size 432x288 with 1 Axes>"
            ]
          },
          "metadata": {
            "tags": [],
            "needs_background": "light"
          }
        }
      ]
    },
    {
      "cell_type": "code",
      "metadata": {
        "id": "tYGnvtx4T6r7"
      },
      "source": [
        "# Online learning no index for output unit since there is only one\r\n",
        "\r\n",
        "def f2_test(i): # Returns test pred\r\n",
        "  x = pd.DataFrame({ 0 : np.repeat(1.0,len(train[0])), 1 : ((pd.to_numeric(train[0])-pd.to_numeric(train[0]).mean())/pd.to_numeric(train[0]).std()),\r\n",
        "                    2 : ((pd.to_numeric(train[0])**2-(pd.to_numeric(train[0])**2).mean())/(pd.to_numeric(train[0])**2).std()), 3 :((pd.to_numeric(train[0])**3-(pd.to_numeric(train[0])**3).mean())/(pd.to_numeric(train[0])**3).std())})\r\n",
        "  #train[1] = ((pd.to_numeric(train[1])-pd.to_numeric(train[1]).mean())/pd.to_numeric(train[1]).std())\r\n",
        "  \r\n",
        "  x_test = pd.DataFrame({ 0 : np.repeat(1.0,len(test[0])), 1 : ((pd.to_numeric(test[0])-pd.to_numeric(test[0]).mean())/pd.to_numeric(test[0]).std()),\r\n",
        "                    2 : ((pd.to_numeric(test[0])**2-(pd.to_numeric(test[0])**2).mean())/(pd.to_numeric(test[0])**2).std()), 3 :((pd.to_numeric(test[0])**3-(pd.to_numeric(test[0])**3).mean())/(pd.to_numeric(test[0])**3).std())})\r\n",
        "  \r\n",
        "  ytrain = (pd.to_numeric(train[1]) - pd.to_numeric(train[1]).mean())/pd.to_numeric(train[1]).std()\r\n",
        " # x = pd.DataFrame({ 0 : np.repeat(1.0,len(train[0])), 1 :pd.to_numeric(train[0]), 2 :pd.to_numeric(train[0])**2, 3 :pd.to_numeric(train[0])**3})\r\n",
        "  #x_test = pd.DataFrame({ 0 : np.repeat(1.0,len(test[0])), 1 :pd.to_numeric(test[0]), 2 :pd.to_numeric(test[0])**2, 3 :pd.to_numeric(test[0])**3})\r\n",
        "\r\n",
        "  P = len(train)\r\n",
        "  t = 0\r\n",
        "  epsilon= 0.001\r\n",
        "  n = 0.9\r\n",
        "  alpha = 0.5\r\n",
        "  J = i\r\n",
        "  K = 3\r\n",
        "  wjk = np.random.uniform(-0.001, 0.001,size=(J,K+1))\r\n",
        "  #np.random.uniform(-0.001, 0.001,size=(J,K+1))\r\n",
        "  Wij = np.random.uniform(-0.001, 0.001,size=(1,J+1))\r\n",
        "  #np.random.uniform(-0.001, 0.001,size=(1,J+1))\r\n",
        "  hjp = np.zeros(shape=(J,P))\r\n",
        "  Hjp = np.zeros(shape=(J,P))\r\n",
        "  Hjp = np.insert(Hjp, 0, np.repeat(1.0,P), axis=0)\r\n",
        "  op = np.zeros(shape = (1,P))\r\n",
        "  d_ip = np.zeros(shape = (1,P))\r\n",
        "  d_jp = np.zeros(shape=(J,P))\r\n",
        "  delta_Wij = np.zeros(shape=(1,J+1))\r\n",
        "  delta_wjk = np.zeros(shape=(J,K+1))\r\n",
        "  while alpha > epsilon:\r\n",
        "    #x = x.sample(frac=1).reset_index(drop=True)\r\n",
        "    for p in range(P):\r\n",
        "      for j in range(J):\r\n",
        "        hjp[j,p] =   np.dot(x.loc[p],wjk[j].transpose())\r\n",
        "        Hjp[j+1,p] = sig(hjp[j,p])\r\n",
        "      op[0,p] = np.dot(Wij[0],Hjp.transpose()[p])\r\n",
        "      d_ip[0,p] = (ytrain[p])-op[0,p]  #\r\n",
        "\r\n",
        "      for j in range(J):\r\n",
        "        d_jp[j,p] = sig_dif(hjp[j,p])*(d_ip[0,p]*Wij[0,j+1])   #\r\n",
        "\r\n",
        "      for j in range(J+1):\r\n",
        "        #delta_Wij[0,j] = alpha * float(d_ip[0,p]*Hjp[j,p])\r\n",
        "        Wij[0,j] = Wij[0,j] + alpha * d_ip[0,p]*Hjp[j,p]\r\n",
        "\r\n",
        "      for j in range(J):\r\n",
        "        for k in range(K+1):\r\n",
        "          #delta_wjk[j,k] = alpha * float(x.loc[p,k]*d_jp[j,p])\r\n",
        "          wjk[j,k] = wjk[j,k] + alpha * x.loc[p,k]*d_jp[j,p]\r\n",
        "\r\n",
        "    alpha = alpha * n\r\n",
        "    t = t + 1\r\n",
        "  \r\n",
        "  #FITTING\r\n",
        "\r\n",
        "  unit = np.zeros(shape=(J,P))\r\n",
        "  a = []\r\n",
        "\r\n",
        "  P_new = len(x_test)\r\n",
        "\r\n",
        "  for p in range(P_new):\r\n",
        "    for j in range(J):\r\n",
        "      unit[j,p]= unit[j,p] + sig(np.dot(x_test.loc[p],wjk[j]))\r\n",
        "\r\n",
        "  for p in range(P_new):\r\n",
        "    a.append(float(np.dot(np.insert(unit[:,p], 0, 1.0),Wij[0].transpose())))\r\n",
        "  return a"
      ],
      "execution_count": 51,
      "outputs": []
    },
    {
      "cell_type": "code",
      "metadata": {
        "colab": {
          "base_uri": "https://localhost:8080/",
          "height": 283
        },
        "id": "nyN0-66XWWxo",
        "outputId": "5046fec7-2eff-4367-87f6-2be2d2b9dd03"
      },
      "source": [
        "# TRAINING PLOTS\r\n",
        "\r\n",
        "x = pd.DataFrame({ 0 : np.repeat(1.0,len(train[0])), 1 : ((pd.to_numeric(train[0])-pd.to_numeric(train[0]).mean())/pd.to_numeric(train[0]).std()),\r\n",
        "                    2 : ((pd.to_numeric(train[0])**2-(pd.to_numeric(train[0])**2).mean())/(pd.to_numeric(train[0])**2).std()), 3 :((pd.to_numeric(train[0])**3-(pd.to_numeric(train[0])**3).mean())/(pd.to_numeric(train[0])**3).std())})\r\n",
        "ytrain = (pd.to_numeric(train[1]) - pd.to_numeric(train[1]).mean())/pd.to_numeric(train[1]).std()\r\n",
        "\r\n",
        "import matplotlib.pyplot as plt\r\n",
        "plt.plot(x[1], ytrain, 'o')\r\n",
        "plt.plot(x[1], f2(4), 'o')"
      ],
      "execution_count": 30,
      "outputs": [
        {
          "output_type": "execute_result",
          "data": {
            "text/plain": [
              "[<matplotlib.lines.Line2D at 0x7f57ed211ba8>]"
            ]
          },
          "metadata": {
            "tags": []
          },
          "execution_count": 30
        },
        {
          "output_type": "display_data",
          "data": {
            "image/png": "[encoded data removed]",
            "text/plain": [
              "<Figure size 432x288 with 1 Axes>"
            ]
          },
          "metadata": {
            "tags": [],
            "needs_background": "light"
          }
        }
      ]
    },
    {
      "cell_type": "code",
      "metadata": {
        "id": "_7S154a0X-3o"
      },
      "source": [
        "def f2_train(i): # Returns train pred\r\n",
        "  x = pd.DataFrame({ 0 : np.repeat(1.0,len(train[0])), 1 : ((pd.to_numeric(train[0])-pd.to_numeric(train[0]).mean())/pd.to_numeric(train[0]).std()),\r\n",
        "                    2 : ((pd.to_numeric(train[0])**2-(pd.to_numeric(train[0])**2).mean())/(pd.to_numeric(train[0])**2).std()), 3 :((pd.to_numeric(train[0])**3-(pd.to_numeric(train[0])**3).mean())/(pd.to_numeric(train[0])**3).std())})\r\n",
        "  #train[1] = ((pd.to_numeric(train[1])-pd.to_numeric(train[1]).mean())/pd.to_numeric(train[1]).std())\r\n",
        "  \r\n",
        "  x_test = pd.DataFrame({ 0 : np.repeat(1.0,len(test[0])), 1 : ((pd.to_numeric(test[0])-pd.to_numeric(test[0]).mean())/pd.to_numeric(test[0]).std())})\r\n",
        "  \r\n",
        "  ytrain = (pd.to_numeric(train[1]) - pd.to_numeric(train[1]).mean())/pd.to_numeric(train[1]).std()\r\n",
        "  # x = pd.DataFrame({ 0 : np.repeat(1.0,len(train[0])), 1 :pd.to_numeric(train[0]), 2 :pd.to_numeric(train[0])**2, 3 :pd.to_numeric(train[0])**3})\r\n",
        "  #x_test = pd.DataFrame({ 0 : np.repeat(1.0,len(test[0])), 1 :pd.to_numeric(test[0]), 2 :pd.to_numeric(test[0])**2, 3 :pd.to_numeric(test[0])**3})\r\n",
        "\r\n",
        "  P = len(train)\r\n",
        "  t = 0\r\n",
        "  epsilon= 0.001\r\n",
        "  n = 0.9\r\n",
        "  alpha = 0.5\r\n",
        "  J = i\r\n",
        "  K = 3\r\n",
        "  wjk = np.random.uniform(-0.001, 0.001,size=(J,K+1))\r\n",
        "  #np.random.uniform(-0.001, 0.001,size=(J,K+1))\r\n",
        "  Wij = np.random.uniform(-0.001, 0.001,size=(1,J+1))\r\n",
        "  #np.random.uniform(-0.001, 0.001,size=(1,J+1))\r\n",
        "  hjp = np.zeros(shape=(J,P))\r\n",
        "  Hjp = np.zeros(shape=(J,P))\r\n",
        "  Hjp = np.insert(Hjp, 0, np.repeat(1.0,P), axis=0)\r\n",
        "  op = np.zeros(shape = (1,P))\r\n",
        "  d_ip = np.zeros(shape = (1,P))\r\n",
        "  d_jp = np.zeros(shape=(J,P))\r\n",
        "  delta_Wij = np.zeros(shape=(1,J+1))\r\n",
        "  delta_wjk = np.zeros(shape=(J,K+1))\r\n",
        "  while alpha > epsilon:\r\n",
        "    #x = x.sample(frac=1).reset_index(drop=True)\r\n",
        "    for p in range(P):\r\n",
        "      for j in range(J):\r\n",
        "        hjp[j,p] =   np.dot(x.loc[p],wjk[j].transpose())\r\n",
        "        Hjp[j+1,p] = sig(hjp[j,p])\r\n",
        "      op[0,p] = np.dot(Wij[0],Hjp.transpose()[p])\r\n",
        "      d_ip[0,p] = (ytrain[p])-op[0,p]  #\r\n",
        "\r\n",
        "      for j in range(J):\r\n",
        "        d_jp[j,p] = sig_dif(hjp[j,p])*(d_ip[0,p]*Wij[0,j+1])   #\r\n",
        "\r\n",
        "      for j in range(J+1):\r\n",
        "        #delta_Wij[0,j] = alpha * float(d_ip[0,p]*Hjp[j,p])\r\n",
        "        Wij[0,j] = Wij[0,j] + alpha * d_ip[0,p]*Hjp[j,p]\r\n",
        "\r\n",
        "      for j in range(J):\r\n",
        "        for k in range(K+1):\r\n",
        "          #delta_wjk[j,k] = alpha * float(x.loc[p,k]*d_jp[j,p])\r\n",
        "          wjk[j,k] = wjk[j,k] + alpha * x.loc[p,k]*d_jp[j,p]\r\n",
        "\r\n",
        "    alpha = alpha * n\r\n",
        "    t = t + 1\r\n",
        "  \r\n",
        "\r\n",
        "  unit = np.zeros(shape=(J,P))\r\n",
        "  a = []\r\n",
        "\r\n",
        "  P_new = len(x)\r\n",
        "\r\n",
        "  for p in range(P_new):\r\n",
        "    for j in range(J):\r\n",
        "      unit[j,p]= unit[j,p] + sig(np.dot(x.loc[p],wjk[j]))\r\n",
        "\r\n",
        "  for p in range(P_new):\r\n",
        "    a.append(float(np.dot(np.insert(unit[:,p], 0, 1.0),Wij[0].transpose())))\r\n",
        "  return a"
      ],
      "execution_count": 53,
      "outputs": []
    },
    {
      "cell_type": "code",
      "metadata": {
        "id": "xl4ujFnbfy9y"
      },
      "source": [
        "def f2_train(i): # Returns train pred\r\n",
        "  x = pd.DataFrame({ 0 : np.repeat(1.0,len(train[0])), 1 : ((pd.to_numeric(train[0])-pd.to_numeric(train[0]).mean())/pd.to_numeric(train[0]).std()),\r\n",
        "                    2 : ((pd.to_numeric(train[0])**2-(pd.to_numeric(train[0])**2).mean())/(pd.to_numeric(train[0])**2).std()), 3 :((pd.to_numeric(train[0])**3-(pd.to_numeric(train[0])**3).mean())/(pd.to_numeric(train[0])**3).std())})\r\n",
        "  #train[1] = ((pd.to_numeric(train[1])-pd.to_numeric(train[1]).mean())/pd.to_numeric(train[1]).std())\r\n",
        "  \r\n",
        "  x_test = pd.DataFrame({ 0 : np.repeat(1.0,len(test[0])), 1 : ((pd.to_numeric(test[0])-pd.to_numeric(test[0]).mean())/pd.to_numeric(test[0]).std())})\r\n",
        "  \r\n",
        "  ytrain = (pd.to_numeric(train[1]) - pd.to_numeric(train[1]).mean())/pd.to_numeric(train[1]).std()\r\n",
        "  # x = pd.DataFrame({ 0 : np.repeat(1.0,len(train[0])), 1 :pd.to_numeric(train[0]), 2 :pd.to_numeric(train[0])**2, 3 :pd.to_numeric(train[0])**3})\r\n",
        "  #x_test = pd.DataFrame({ 0 : np.repeat(1.0,len(test[0])), 1 :pd.to_numeric(test[0]), 2 :pd.to_numeric(test[0])**2, 3 :pd.to_numeric(test[0])**3})\r\n",
        "\r\n",
        "  P = len(train)\r\n",
        "  t = 0\r\n",
        "  epsilon= 0.001\r\n",
        "  n = 0.9\r\n",
        "  alpha = 0.5\r\n",
        "  J = i\r\n",
        "  K = 3\r\n",
        "  wjk = np.random.uniform(-0.001, 0.001,size=(J,K+1))\r\n",
        "  #np.random.uniform(-0.001, 0.001,size=(J,K+1))\r\n",
        "  Wij = np.random.uniform(-0.001, 0.001,size=(1,J+1))\r\n",
        "  #np.random.uniform(-0.001, 0.001,size=(1,J+1))\r\n",
        "  hjp = np.zeros(shape=(J,P))\r\n",
        "  Hjp = np.zeros(shape=(J,P))\r\n",
        "  Hjp = np.insert(Hjp, 0, np.repeat(1.0,P), axis=0)\r\n",
        "  op = np.zeros(shape = (1,P))\r\n",
        "  d_ip = np.zeros(shape = (1,P))\r\n",
        "  d_jp = np.zeros(shape=(J,P))\r\n",
        "  delta_Wij = np.zeros(shape=(1,J+1))\r\n",
        "  delta_wjk = np.zeros(shape=(J,K+1))\r\n",
        "  while alpha > epsilon:\r\n",
        "    #x = x.sample(frac=1).reset_index(drop=True)\r\n",
        "    for p in range(P):\r\n",
        "      for j in range(J):\r\n",
        "        hjp[j,p] =   np.dot(x.loc[p],wjk[j].transpose())\r\n",
        "        Hjp[j+1,p] = sig(hjp[j,p])\r\n",
        "      op[0,p] = np.dot(Wij[0],Hjp.transpose()[p])\r\n",
        "      d_ip[0,p] = (ytrain[p])-op[0,p]  #\r\n",
        "\r\n",
        "      for j in range(J):\r\n",
        "        d_jp[j,p] = sig_dif(hjp[j,p])*(d_ip[0,p]*Wij[0,j+1])   #\r\n",
        "\r\n",
        "      for j in range(J+1):\r\n",
        "        #delta_Wij[0,j] = alpha * float(d_ip[0,p]*Hjp[j,p])\r\n",
        "        Wij[0,j] = Wij[0,j] + alpha * d_ip[0,p]*Hjp[j,p]\r\n",
        "\r\n",
        "      for j in range(J):\r\n",
        "        for k in range(K+1):\r\n",
        "          #delta_wjk[j,k] = alpha * float(x.loc[p,k]*d_jp[j,p])\r\n",
        "          wjk[j,k] = wjk[j,k] + alpha * x.loc[p,k]*d_jp[j,p]\r\n",
        "\r\n",
        "    alpha = alpha * n\r\n",
        "    t = t + 1\r\n",
        "  \r\n",
        "\r\n",
        "  unit = np.zeros(shape=(J,P))\r\n",
        "  a = []\r\n",
        "\r\n",
        "  P_new = len(x)\r\n",
        "\r\n",
        "  for p in range(P_new):\r\n",
        "    for j in range(J):\r\n",
        "      unit[j,p]= unit[j,p] + sig(np.dot(x.loc[p],wjk[j]))\r\n",
        "\r\n",
        "  for p in range(P_new):\r\n",
        "    a.append(float(np.dot(np.insert(unit[:,p], 0, 1.0),Wij[0].transpose())))\r\n",
        "  return a"
      ],
      "execution_count": 61,
      "outputs": []
    },
    {
      "cell_type": "code",
      "metadata": {
        "colab": {
          "base_uri": "https://localhost:8080/",
          "height": 283
        },
        "id": "FYp7wPk0Yr2H",
        "outputId": "1ba11b29-8f47-434d-f6cd-936f9f1b83e8"
      },
      "source": [
        "# TRAINING PLOTS\r\n",
        "\r\n",
        "x = pd.DataFrame({ 0 : np.repeat(1.0,len(train[0])), 1 : ((pd.to_numeric(train[0])-pd.to_numeric(train[0]).mean())/pd.to_numeric(train[0]).std())})\r\n",
        "              \r\n",
        "ytrain = (pd.to_numeric(train[1]) - pd.to_numeric(train[1]).mean())/pd.to_numeric(train[1]).std()\r\n",
        "\r\n",
        "import matplotlib.pyplot as plt\r\n",
        "plt.plot(x[1], ytrain, 'o')\r\n",
        "plt.plot(x[1], f1(3), 'o')"
      ],
      "execution_count": 34,
      "outputs": [
        {
          "output_type": "execute_result",
          "data": {
            "text/plain": [
              "[<matplotlib.lines.Line2D at 0x7f57ecf2bcf8>]"
            ]
          },
          "metadata": {
            "tags": []
          },
          "execution_count": 34
        },
        {
          "output_type": "display_data",
          "data": {
            "image/png": "[encoded data removed]",
            "text/plain": [
              "<Figure size 432x288 with 1 Axes>"
            ]
          },
          "metadata": {
            "tags": [],
            "needs_background": "light"
          }
        }
      ]
    },
    {
      "cell_type": "code",
      "metadata": {
        "colab": {
          "base_uri": "https://localhost:8080/"
        },
        "id": "bUc0kpJofh9i",
        "outputId": "7a24bb2d-0088-4606-dc9c-b85d8a789f46"
      },
      "source": [
        "f1_test(3)"
      ],
      "execution_count": 54,
      "outputs": [
        {
          "output_type": "execute_result",
          "data": {
            "text/plain": [
              "[-0.6153417149366212,\n",
              " -0.8041612916803199,\n",
              " -0.7945895331383185,\n",
              " -0.5195627623626683,\n",
              " -0.8179382103507188,\n",
              " -0.8743751367352751,\n",
              " -0.697255872408102,\n",
              " -0.8625575261076164,\n",
              " -0.491067006533794,\n",
              " -0.39525669776458855,\n",
              " 1.0711667553318518,\n",
              " 0.9209585748926548,\n",
              " 0.7901200348915284,\n",
              " 1.0300437012890846,\n",
              " -0.13274697229442212,\n",
              " 0.8311524235838716,\n",
              " 0.5844927964698688,\n",
              " -0.16325670931877165,\n",
              " 1.056988383563513,\n",
              " 1.0993755409996318]"
            ]
          },
          "metadata": {
            "tags": []
          },
          "execution_count": 54
        }
      ]
    },
    {
      "cell_type": "code",
      "metadata": {
        "colab": {
          "base_uri": "https://localhost:8080/"
        },
        "id": "06TfIpbSjuY9",
        "outputId": "3b718513-651a-4488-c184-88df04b2f181"
      },
      "source": [
        "ytest[1]"
      ],
      "execution_count": 67,
      "outputs": [
        {
          "output_type": "execute_result",
          "data": {
            "text/plain": [
              "-0.7877844905979199"
            ]
          },
          "metadata": {
            "tags": []
          },
          "execution_count": 67
        }
      ]
    },
    {
      "cell_type": "code",
      "metadata": {
        "id": "hVxyTwtsbXwW"
      },
      "source": [
        "\r\n",
        "ytrain = (pd.to_numeric(train[1])-pd.to_numeric(train[1]).mean())/pd.to_numeric(train[1]).std()\r\n",
        "ytest = (pd.to_numeric(test[1])-pd.to_numeric(test[1]).mean())/pd.to_numeric(test[1]).std()\r\n",
        "\r\n",
        "\r\n",
        "data = []\r\n",
        "sse = sum((ytrain-f1_train(3))**2)\r\n",
        "mse = mean((ytest - f1_test(3))**2)\r\n",
        "k = 0\r\n",
        "\r\n",
        "for p in range(len(ytest)):\r\n",
        "  k = k + (mse - (ytest[p] - f1_test(3)[p])**2)**2\r\n",
        "k= k/(len(ytest)-1)\r\n",
        "\r\n",
        "#f1 \r\n",
        "data.append({\r\n",
        "      \"SSE\" : sse,\r\n",
        "      \"Test MSE\" : mse,\r\n",
        "      \"S2 for Test MSE\" : k\r\n",
        "\r\n",
        "    })"
      ],
      "execution_count": 68,
      "outputs": []
    },
    {
      "cell_type": "code",
      "metadata": {
        "colab": {
          "base_uri": "https://localhost:8080/"
        },
        "id": "eiEfhBj1jKoF",
        "outputId": "82818896-a49a-4eef-9662-79a23c41bd48"
      },
      "source": [
        "data"
      ],
      "execution_count": 69,
      "outputs": [
        {
          "output_type": "execute_result",
          "data": {
            "text/plain": [
              "[{'S2 for Test MSE': 0.4901452378683963,\n",
              "  'SSE': 41.849575007478954,\n",
              "  'Test MSE': 0.3705660898090262}]"
            ]
          },
          "metadata": {
            "tags": []
          },
          "execution_count": 69
        }
      ]
    },
    {
      "cell_type": "code",
      "metadata": {
        "id": "AzGOV2v3jCk2"
      },
      "source": [
        "\r\n",
        "ytrain = (pd.to_numeric(train[1])-pd.to_numeric(train[1]).mean())/pd.to_numeric(train[1]).std()\r\n",
        "ytest = (pd.to_numeric(test[1])-pd.to_numeric(test[1]).mean())/pd.to_numeric(test[1]).std()\r\n",
        "\r\n",
        "\r\n",
        "data = []\r\n",
        "sse = sum((ytrain-f2_train(4))**2)\r\n",
        "mse = mean((ytest - f2_test(4))**2)\r\n",
        "k = 0\r\n",
        "\r\n",
        "for p in range(len(ytest)):\r\n",
        "  k = k + (mse - (ytest[p] - f2_test(4)[p])**2)**2\r\n",
        "k= k/(len(ytest)-1)\r\n",
        "\r\n",
        "#f1 \r\n",
        "data.append({\r\n",
        "      \"SSE\" : sse,\r\n",
        "      \"Test MSE\" : mse,\r\n",
        "      \"S2 for Test MSE\" : k\r\n",
        "\r\n",
        "    })"
      ],
      "execution_count": 70,
      "outputs": []
    },
    {
      "cell_type": "code",
      "metadata": {
        "colab": {
          "base_uri": "https://localhost:8080/"
        },
        "id": "I-NWOk5ujOW3",
        "outputId": "9bddc40a-e833-41ea-bf53-4500f77cfa8a"
      },
      "source": [
        "data"
      ],
      "execution_count": 71,
      "outputs": [
        {
          "output_type": "execute_result",
          "data": {
            "text/plain": [
              "[{'S2 for Test MSE': 0.5351155064246044,\n",
              "  'SSE': 42.37202679786104,\n",
              "  'Test MSE': 0.37573233164697456}]"
            ]
          },
          "metadata": {
            "tags": []
          },
          "execution_count": 71
        }
      ]
    }
  ]
}